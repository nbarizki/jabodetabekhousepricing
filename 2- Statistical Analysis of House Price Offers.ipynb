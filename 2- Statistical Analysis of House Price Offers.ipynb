{
 "cells": [
  {
   "cell_type": "markdown",
   "metadata": {},
   "source": [
    "# Data Exploration and Statistical Analysis of House Price Offers"
   ]
  },
  {
   "cell_type": "markdown",
   "metadata": {},
   "source": [
    "# 1. Introduction"
   ]
  },
  {
   "cell_type": "markdown",
   "metadata": {},
   "source": [
    "# 2. Dataset Characteristics"
   ]
  },
  {
   "cell_type": "markdown",
   "metadata": {},
   "source": [
    "## 2.1. Preparing the Data"
   ]
  },
  {
   "cell_type": "code",
   "execution_count": 1,
   "metadata": {},
   "outputs": [],
   "source": [
    "import pandas as pd\n",
    "import numpy as np\n",
    "import itertools\n",
    "import re\n",
    "import matplotlib.pyplot as plt\n",
    "import seaborn as sns\n",
    "\n",
    "pd.set_option('display.float', '{:,.2f}'.format)\n",
    "pd.set_option('display.max_columns', 75)\n",
    "pd.set_option('display.max_rows', 75)\n",
    "pd.set_option('display.max_info_columns', 50)"
   ]
  },
  {
   "cell_type": "code",
   "execution_count": 2,
   "metadata": {},
   "outputs": [],
   "source": [
    "house_df = pd.read_csv('Scraped_Data/jabodetabek_house_price.csv')"
   ]
  },
  {
   "cell_type": "markdown",
   "metadata": {},
   "source": [
    "## 2.2. Dataset Features"
   ]
  },
  {
   "cell_type": "markdown",
   "metadata": {},
   "source": [
    "#### **Features List**"
   ]
  },
  {
   "cell_type": "code",
   "execution_count": 3,
   "metadata": {},
   "outputs": [
    {
     "data": {
      "text/html": [
       "<div>\n",
       "<style scoped>\n",
       "    .dataframe tbody tr th:only-of-type {\n",
       "        vertical-align: middle;\n",
       "    }\n",
       "\n",
       "    .dataframe tbody tr th {\n",
       "        vertical-align: top;\n",
       "    }\n",
       "\n",
       "    .dataframe thead th {\n",
       "        text-align: right;\n",
       "    }\n",
       "</style>\n",
       "<table border=\"1\" class=\"dataframe\">\n",
       "  <thead>\n",
       "    <tr style=\"text-align: right;\">\n",
       "      <th>features</th>\n",
       "      <th>849</th>\n",
       "    </tr>\n",
       "  </thead>\n",
       "  <tbody>\n",
       "    <tr>\n",
       "      <th>url</th>\n",
       "      <td>https://www.rumah123.com/properti/bogor/hos110...</td>\n",
       "    </tr>\n",
       "    <tr>\n",
       "      <th>price_in_rp</th>\n",
       "      <td>1,150,000,000.00</td>\n",
       "    </tr>\n",
       "    <tr>\n",
       "      <th>title</th>\n",
       "      <td>Rumah siap huni Viktoria Sentul city</td>\n",
       "    </tr>\n",
       "    <tr>\n",
       "      <th>address</th>\n",
       "      <td>Sentul City, Bogor</td>\n",
       "    </tr>\n",
       "    <tr>\n",
       "      <th>district</th>\n",
       "      <td>Sentul City</td>\n",
       "    </tr>\n",
       "    <tr>\n",
       "      <th>city</th>\n",
       "      <td>Bogor</td>\n",
       "    </tr>\n",
       "    <tr>\n",
       "      <th>lat</th>\n",
       "      <td>-6.52</td>\n",
       "    </tr>\n",
       "    <tr>\n",
       "      <th>long</th>\n",
       "      <td>106.85</td>\n",
       "    </tr>\n",
       "    <tr>\n",
       "      <th>facilities</th>\n",
       "      <td>Jalur Telepon,  Taman, Ac, Jogging Track,  Ke...</td>\n",
       "    </tr>\n",
       "    <tr>\n",
       "      <th>property_type</th>\n",
       "      <td>rumah</td>\n",
       "    </tr>\n",
       "    <tr>\n",
       "      <th>ads_id</th>\n",
       "      <td>hos11030809</td>\n",
       "    </tr>\n",
       "    <tr>\n",
       "      <th>bedrooms</th>\n",
       "      <td>3.00</td>\n",
       "    </tr>\n",
       "    <tr>\n",
       "      <th>bathrooms</th>\n",
       "      <td>2.00</td>\n",
       "    </tr>\n",
       "    <tr>\n",
       "      <th>land_size_m2</th>\n",
       "      <td>90.00</td>\n",
       "    </tr>\n",
       "    <tr>\n",
       "      <th>building_size_m2</th>\n",
       "      <td>120.00</td>\n",
       "    </tr>\n",
       "    <tr>\n",
       "      <th>carports</th>\n",
       "      <td>1.00</td>\n",
       "    </tr>\n",
       "    <tr>\n",
       "      <th>certificate</th>\n",
       "      <td>shm - sertifikat hak milik</td>\n",
       "    </tr>\n",
       "    <tr>\n",
       "      <th>electricity</th>\n",
       "      <td>2200 mah</td>\n",
       "    </tr>\n",
       "    <tr>\n",
       "      <th>maid_bedrooms</th>\n",
       "      <td>1.00</td>\n",
       "    </tr>\n",
       "    <tr>\n",
       "      <th>maid_bathrooms</th>\n",
       "      <td>1.00</td>\n",
       "    </tr>\n",
       "    <tr>\n",
       "      <th>floors</th>\n",
       "      <td>2.00</td>\n",
       "    </tr>\n",
       "    <tr>\n",
       "      <th>building_age</th>\n",
       "      <td>5.00</td>\n",
       "    </tr>\n",
       "    <tr>\n",
       "      <th>year_built</th>\n",
       "      <td>2,017.00</td>\n",
       "    </tr>\n",
       "    <tr>\n",
       "      <th>property_condition</th>\n",
       "      <td>bagus sekali</td>\n",
       "    </tr>\n",
       "    <tr>\n",
       "      <th>building_orientation</th>\n",
       "      <td>selatan</td>\n",
       "    </tr>\n",
       "    <tr>\n",
       "      <th>garages</th>\n",
       "      <td>1.00</td>\n",
       "    </tr>\n",
       "    <tr>\n",
       "      <th>furnishing</th>\n",
       "      <td>semi furnished</td>\n",
       "    </tr>\n",
       "  </tbody>\n",
       "</table>\n",
       "</div>"
      ],
      "text/plain": [
       "features                                                            849\n",
       "url                   https://www.rumah123.com/properti/bogor/hos110...\n",
       "price_in_rp                                            1,150,000,000.00\n",
       "title                              Rumah siap huni Viktoria Sentul city\n",
       "address                                              Sentul City, Bogor\n",
       "district                                                    Sentul City\n",
       "city                                                              Bogor\n",
       "lat                                                               -6.52\n",
       "long                                                             106.85\n",
       "facilities             Jalur Telepon,  Taman, Ac, Jogging Track,  Ke...\n",
       "property_type                                                     rumah\n",
       "ads_id                                                      hos11030809\n",
       "bedrooms                                                           3.00\n",
       "bathrooms                                                          2.00\n",
       "land_size_m2                                                      90.00\n",
       "building_size_m2                                                 120.00\n",
       "carports                                                           1.00\n",
       "certificate                                  shm - sertifikat hak milik\n",
       "electricity                                                    2200 mah\n",
       "maid_bedrooms                                                      1.00\n",
       "maid_bathrooms                                                     1.00\n",
       "floors                                                             2.00\n",
       "building_age                                                       5.00\n",
       "year_built                                                     2,017.00\n",
       "property_condition                                         bagus sekali\n",
       "building_orientation                                            selatan\n",
       "garages                                                            1.00\n",
       "furnishing                                               semi furnished"
      ]
     },
     "execution_count": 3,
     "metadata": {},
     "output_type": "execute_result"
    }
   ],
   "source": [
    "features = house_df.sample(1).T.rename_axis('features', axis='columns')\n",
    "\n",
    "features"
   ]
  },
  {
   "cell_type": "markdown",
   "metadata": {},
   "source": [
    "The feature names are quite understandable and the values are not ambiguous."
   ]
  },
  {
   "cell_type": "markdown",
   "metadata": {},
   "source": [
    "#### **Data types of each Features**"
   ]
  },
  {
   "cell_type": "markdown",
   "metadata": {},
   "source": [
    "We will apply data types of each features accordingly as explained as below:\n",
    "\n",
    "1. Some features that explains *number of instances* (e.g. number of `garages` provided) is best explained as an integer. For convenience, we will cast the datatypes of those features.\n",
    "\n",
    "2. Some features fall into *categorical* datatypes (e.g. `certificate`) and some categories naturally have order (e.g. `electricity`)"
   ]
  },
  {
   "cell_type": "code",
   "execution_count": 4,
   "metadata": {},
   "outputs": [
    {
     "name": "stdout",
     "output_type": "stream",
     "text": [
      "<class 'pandas.core.frame.DataFrame'>\n",
      "RangeIndex: 3553 entries, 0 to 3552\n",
      "Data columns (total 27 columns):\n",
      " #   Column                Non-Null Count  Dtype   \n",
      "---  ------                --------------  -----   \n",
      " 0   url                   3553 non-null   object  \n",
      " 1   price_in_rp           3553 non-null   float64 \n",
      " 2   title                 3553 non-null   object  \n",
      " 3   address               3553 non-null   object  \n",
      " 4   district              3553 non-null   object  \n",
      " 5   city                  3553 non-null   object  \n",
      " 6   lat                   3553 non-null   float64 \n",
      " 7   long                  3553 non-null   float64 \n",
      " 8   facilities            3553 non-null   object  \n",
      " 9   property_type         3552 non-null   category\n",
      " 10  ads_id                3549 non-null   object  \n",
      " 11  bedrooms              3519 non-null   Int64   \n",
      " 12  bathrooms             3524 non-null   Int64   \n",
      " 13  land_size_m2          3551 non-null   float64 \n",
      " 14  building_size_m2      3551 non-null   float64 \n",
      " 15  carports              3553 non-null   Int64   \n",
      " 16  certificate           3412 non-null   category\n",
      " 17  electricity           3553 non-null   category\n",
      " 18  maid_bedrooms         3553 non-null   Int64   \n",
      " 19  maid_bathrooms        3553 non-null   Int64   \n",
      " 20  floors                3547 non-null   Int64   \n",
      " 21  building_age          2108 non-null   Int64   \n",
      " 22  year_built            2108 non-null   Int64   \n",
      " 23  property_condition    3307 non-null   category\n",
      " 24  building_orientation  1906 non-null   category\n",
      " 25  garages               3553 non-null   Int64   \n",
      " 26  furnishing            3166 non-null   category\n",
      "dtypes: Int64(9), category(6), float64(5), object(7)\n",
      "memory usage: 637.6+ KB\n"
     ]
    }
   ],
   "source": [
    "cast_int_cols_indices = [\n",
    "    (i, format) for i, format in zip(\n",
    "        [11, 12, 15, 18, 19, 20, 21, 22, 25], itertools.repeat('Int64')\n",
    "        )\n",
    "    ]\n",
    "cast_categorical_cols_indices = [\n",
    "    (i, format) for i, format in zip(\n",
    "        [9, 16, 17, 23, 24, 26], itertools.repeat('category')\n",
    "        )\n",
    "    ]\n",
    "for index, format in (\n",
    "        cast_int_cols_indices \n",
    "        + cast_categorical_cols_indices):\n",
    "    house_df.iloc[:, index] = house_df.iloc[:, index].astype(format, errors='ignore')\n",
    "    \n",
    "house_df.info()"
   ]
  },
  {
   "cell_type": "markdown",
   "metadata": {},
   "source": [
    "Let's inspect each of the categorical column:"
   ]
  },
  {
   "cell_type": "code",
   "execution_count": 5,
   "metadata": {},
   "outputs": [
    {
     "name": "stdout",
     "output_type": "stream",
     "text": [
      "property_type . Categories:  ['rumah'] \n",
      "\n",
      "certificate . Categories:  ['hgb - hak guna bangunan', 'hp - hak pakai', 'lainnya (ppjb,girik,adat,dll)', 'shm - sertifikat hak milik'] \n",
      "\n",
      "electricity . Categories:  ['10000 mah', '10600 mah', '11000 mah', '12700 mah', '1300 mah', '13200 mah', '13300 mah', '13900 mah', '16500 mah', '17600 mah', '2200 mah', '22000 mah', '23000 mah', '24000 mah', '3300 mah', '33000 mah', '3500 mah', '41500 mah', '4400 mah', '450 mah', '47500 mah', '53000 mah', '5500 mah', '6600 mah', '7600 mah', '7700 mah', '8000 mah', '900 mah', '9500 mah', 'lainnya mah'] \n",
      "\n",
      "property_condition . Categories:  ['bagus', 'bagus sekali', 'baru', 'butuh renovasi', 'semi furnished', 'sudah renovasi', 'unfurnished'] \n",
      "\n",
      "building_orientation . Categories:  ['barat', 'barat daya', 'barat laut', 'selatan', 'tenggara', 'timur', 'timur laut', 'utara'] \n",
      "\n",
      "furnishing . Categories:  ['baru', 'furnished', 'semi furnished', 'unfurnished'] \n",
      "\n"
     ]
    }
   ],
   "source": [
    "category_columns = \\\n",
    "    house_df.select_dtypes(include='category').columns\n",
    "\n",
    "for column in category_columns:\n",
    "    categories = list(house_df[column].dtypes.categories)\n",
    "    print(column, '. Categories: ', categories, '\\n')"
   ]
  },
  {
   "cell_type": "markdown",
   "metadata": {},
   "source": [
    "Several features have mixed record of categories (for example, `property_condition` has furnishing records, so has `furnishing`) and deemed inconsistent for ordering this categories.\n",
    "\n",
    "We will order the non-ambiguous categories: `certificate` and `electricity`.\n",
    "\n",
    "1. Certificate categories order shall be: `1) SHM; 2) HGB; 3) HP; 4) lainnya`.\n",
    "2. Electricity order shall be based on its energy charge"
   ]
  },
  {
   "cell_type": "code",
   "execution_count": 6,
   "metadata": {},
   "outputs": [],
   "source": [
    "def sort_elect(string_value):\n",
    "    num_value = re.findall(r'\\d+', string_value)\n",
    "    if len(num_value) == 0:\n",
    "        return 0\n",
    "    else:\n",
    "        return int(num_value[0])\n",
    "\n",
    "certificate_order = [\n",
    "    'shm - sertifikat hak milik', 'hgb - hak guna bangunan', \n",
    "    'hp - hak pakai', 'lainnya (ppjb,girik,adat,dll)'\n",
    "    ]\n",
    "electricity_order = sorted(\n",
    "    list(house_df['electricity'].dtypes.categories),\n",
    "    key=sort_elect\n",
    "    )\n",
    "house_df['certificate'] = \\\n",
    "    pd.Categorical(\n",
    "        values=house_df['certificate'],\n",
    "        categories=certificate_order,\n",
    "        ordered=True\n",
    "        )\n",
    "house_df['electricity'] = \\\n",
    "    pd.Categorical(\n",
    "        values=house_df['electricity'],\n",
    "        categories=electricity_order,\n",
    "        ordered=True\n",
    "        )"
   ]
  },
  {
   "cell_type": "markdown",
   "metadata": {},
   "source": [
    "## 2.3. Features with Suspicious Records"
   ]
  },
  {
   "cell_type": "markdown",
   "metadata": {},
   "source": [
    "Easiest way to detect anomaly in the records is by taking a quick glance in the dataset summary:"
   ]
  },
  {
   "cell_type": "code",
   "execution_count": 7,
   "metadata": {},
   "outputs": [
    {
     "data": {
      "text/html": [
       "<div>\n",
       "<style scoped>\n",
       "    .dataframe tbody tr th:only-of-type {\n",
       "        vertical-align: middle;\n",
       "    }\n",
       "\n",
       "    .dataframe tbody tr th {\n",
       "        vertical-align: top;\n",
       "    }\n",
       "\n",
       "    .dataframe thead th {\n",
       "        text-align: right;\n",
       "    }\n",
       "</style>\n",
       "<table border=\"1\" class=\"dataframe\">\n",
       "  <thead>\n",
       "    <tr style=\"text-align: right;\">\n",
       "      <th></th>\n",
       "      <th>count</th>\n",
       "      <th>mean</th>\n",
       "      <th>std</th>\n",
       "      <th>min</th>\n",
       "      <th>median</th>\n",
       "      <th>max</th>\n",
       "    </tr>\n",
       "  </thead>\n",
       "  <tbody>\n",
       "    <tr>\n",
       "      <th>price_in_rp</th>\n",
       "      <td>3,553.00</td>\n",
       "      <td>4,191,684,773.43</td>\n",
       "      <td>13,750,673,820.54</td>\n",
       "      <td>42,000,000.00</td>\n",
       "      <td>1,500,000,000.00</td>\n",
       "      <td>580,000,000,000.00</td>\n",
       "    </tr>\n",
       "    <tr>\n",
       "      <th>lat</th>\n",
       "      <td>3,553.00</td>\n",
       "      <td>-6.32</td>\n",
       "      <td>0.13</td>\n",
       "      <td>-6.89</td>\n",
       "      <td>-6.30</td>\n",
       "      <td>-6.10</td>\n",
       "    </tr>\n",
       "    <tr>\n",
       "      <th>long</th>\n",
       "      <td>3,553.00</td>\n",
       "      <td>106.79</td>\n",
       "      <td>0.17</td>\n",
       "      <td>106.40</td>\n",
       "      <td>106.80</td>\n",
       "      <td>109.77</td>\n",
       "    </tr>\n",
       "    <tr>\n",
       "      <th>bedrooms</th>\n",
       "      <td>3,519.00</td>\n",
       "      <td>3.33</td>\n",
       "      <td>2.67</td>\n",
       "      <td>1.00</td>\n",
       "      <td>3.00</td>\n",
       "      <td>99.00</td>\n",
       "    </tr>\n",
       "    <tr>\n",
       "      <th>bathrooms</th>\n",
       "      <td>3,524.00</td>\n",
       "      <td>2.62</td>\n",
       "      <td>2.70</td>\n",
       "      <td>1.00</td>\n",
       "      <td>2.00</td>\n",
       "      <td>99.00</td>\n",
       "    </tr>\n",
       "    <tr>\n",
       "      <th>land_size_m2</th>\n",
       "      <td>3,551.00</td>\n",
       "      <td>204.81</td>\n",
       "      <td>402.13</td>\n",
       "      <td>12.00</td>\n",
       "      <td>108.00</td>\n",
       "      <td>8,000.00</td>\n",
       "    </tr>\n",
       "    <tr>\n",
       "      <th>building_size_m2</th>\n",
       "      <td>3,551.00</td>\n",
       "      <td>186.59</td>\n",
       "      <td>248.44</td>\n",
       "      <td>1.00</td>\n",
       "      <td>112.00</td>\n",
       "      <td>6,000.00</td>\n",
       "    </tr>\n",
       "    <tr>\n",
       "      <th>carports</th>\n",
       "      <td>3,553.00</td>\n",
       "      <td>1.20</td>\n",
       "      <td>1.11</td>\n",
       "      <td>0.00</td>\n",
       "      <td>1.00</td>\n",
       "      <td>15.00</td>\n",
       "    </tr>\n",
       "    <tr>\n",
       "      <th>maid_bedrooms</th>\n",
       "      <td>3,553.00</td>\n",
       "      <td>0.50</td>\n",
       "      <td>0.69</td>\n",
       "      <td>0.00</td>\n",
       "      <td>0.00</td>\n",
       "      <td>7.00</td>\n",
       "    </tr>\n",
       "    <tr>\n",
       "      <th>maid_bathrooms</th>\n",
       "      <td>3,553.00</td>\n",
       "      <td>0.37</td>\n",
       "      <td>0.54</td>\n",
       "      <td>0.00</td>\n",
       "      <td>0.00</td>\n",
       "      <td>5.00</td>\n",
       "    </tr>\n",
       "    <tr>\n",
       "      <th>floors</th>\n",
       "      <td>3,547.00</td>\n",
       "      <td>1.76</td>\n",
       "      <td>0.64</td>\n",
       "      <td>1.00</td>\n",
       "      <td>2.00</td>\n",
       "      <td>5.00</td>\n",
       "    </tr>\n",
       "    <tr>\n",
       "      <th>building_age</th>\n",
       "      <td>2,108.00</td>\n",
       "      <td>3.88</td>\n",
       "      <td>7.60</td>\n",
       "      <td>0.00</td>\n",
       "      <td>1.00</td>\n",
       "      <td>152.00</td>\n",
       "    </tr>\n",
       "    <tr>\n",
       "      <th>year_built</th>\n",
       "      <td>2,108.00</td>\n",
       "      <td>2,018.14</td>\n",
       "      <td>7.64</td>\n",
       "      <td>1,870.00</td>\n",
       "      <td>2,021.00</td>\n",
       "      <td>2,052.00</td>\n",
       "    </tr>\n",
       "    <tr>\n",
       "      <th>garages</th>\n",
       "      <td>3,553.00</td>\n",
       "      <td>0.71</td>\n",
       "      <td>1.31</td>\n",
       "      <td>0.00</td>\n",
       "      <td>0.00</td>\n",
       "      <td>50.00</td>\n",
       "    </tr>\n",
       "  </tbody>\n",
       "</table>\n",
       "</div>"
      ],
      "text/plain": [
       "                    count             mean               std           min  \\\n",
       "price_in_rp      3,553.00 4,191,684,773.43 13,750,673,820.54 42,000,000.00   \n",
       "lat              3,553.00            -6.32              0.13         -6.89   \n",
       "long             3,553.00           106.79              0.17        106.40   \n",
       "bedrooms         3,519.00             3.33              2.67          1.00   \n",
       "bathrooms        3,524.00             2.62              2.70          1.00   \n",
       "land_size_m2     3,551.00           204.81            402.13         12.00   \n",
       "building_size_m2 3,551.00           186.59            248.44          1.00   \n",
       "carports         3,553.00             1.20              1.11          0.00   \n",
       "maid_bedrooms    3,553.00             0.50              0.69          0.00   \n",
       "maid_bathrooms   3,553.00             0.37              0.54          0.00   \n",
       "floors           3,547.00             1.76              0.64          1.00   \n",
       "building_age     2,108.00             3.88              7.60          0.00   \n",
       "year_built       2,108.00         2,018.14              7.64      1,870.00   \n",
       "garages          3,553.00             0.71              1.31          0.00   \n",
       "\n",
       "                           median                max  \n",
       "price_in_rp      1,500,000,000.00 580,000,000,000.00  \n",
       "lat                         -6.30              -6.10  \n",
       "long                       106.80             109.77  \n",
       "bedrooms                     3.00              99.00  \n",
       "bathrooms                    2.00              99.00  \n",
       "land_size_m2               108.00           8,000.00  \n",
       "building_size_m2           112.00           6,000.00  \n",
       "carports                     1.00              15.00  \n",
       "maid_bedrooms                0.00               7.00  \n",
       "maid_bathrooms               0.00               5.00  \n",
       "floors                       2.00               5.00  \n",
       "building_age                 1.00             152.00  \n",
       "year_built               2,021.00           2,052.00  \n",
       "garages                      0.00              50.00  "
      ]
     },
     "execution_count": 7,
     "metadata": {},
     "output_type": "execute_result"
    }
   ],
   "source": [
    "house_df.describe(percentiles=[0.5]).T.rename(columns={'50%': 'median'})"
   ]
  },
  {
   "cell_type": "markdown",
   "metadata": {},
   "source": [
    "#### **Price Records**"
   ]
  },
  {
   "cell_type": "code",
   "execution_count": 8,
   "metadata": {},
   "outputs": [
    {
     "data": {
      "text/html": [
       "<div>\n",
       "<style scoped>\n",
       "    .dataframe tbody tr th:only-of-type {\n",
       "        vertical-align: middle;\n",
       "    }\n",
       "\n",
       "    .dataframe tbody tr th {\n",
       "        vertical-align: top;\n",
       "    }\n",
       "\n",
       "    .dataframe thead th {\n",
       "        text-align: right;\n",
       "    }\n",
       "</style>\n",
       "<table border=\"1\" class=\"dataframe\">\n",
       "  <thead>\n",
       "    <tr style=\"text-align: right;\">\n",
       "      <th></th>\n",
       "      <th>count</th>\n",
       "      <th>mean</th>\n",
       "      <th>std</th>\n",
       "      <th>min</th>\n",
       "      <th>median</th>\n",
       "      <th>max</th>\n",
       "    </tr>\n",
       "  </thead>\n",
       "  <tbody>\n",
       "    <tr>\n",
       "      <th>price_in_rp</th>\n",
       "      <td>3,553.00</td>\n",
       "      <td>4,191,684,773.43</td>\n",
       "      <td>13,750,673,820.54</td>\n",
       "      <td>42,000,000.00</td>\n",
       "      <td>1,500,000,000.00</td>\n",
       "      <td>580,000,000,000.00</td>\n",
       "    </tr>\n",
       "  </tbody>\n",
       "</table>\n",
       "</div>"
      ],
      "text/plain": [
       "               count             mean               std           min  \\\n",
       "price_in_rp 3,553.00 4,191,684,773.43 13,750,673,820.54 42,000,000.00   \n",
       "\n",
       "                      median                max  \n",
       "price_in_rp 1,500,000,000.00 580,000,000,000.00  "
      ]
     },
     "execution_count": 8,
     "metadata": {},
     "output_type": "execute_result"
    }
   ],
   "source": [
    "{\"tags\": [\"hide-input\"]}\n",
    "\n",
    "house_df[['price_in_rp']].describe(percentiles=[0.5]).T.rename(columns={'50%': 'median'})"
   ]
  },
  {
   "cell_type": "markdown",
   "metadata": {},
   "source": [
    "Surely, standard deviation of `price_in_rp` is inflated by a nonproportionally large maximum price records. Currently largest value is Rp. 580 Billion. After inspecting, turns out that in the description, it explains that the price should be Rp. 5.8 Billion."
   ]
  },
  {
   "cell_type": "code",
   "execution_count": 9,
   "metadata": {},
   "outputs": [
    {
     "data": {
      "text/html": [
       "<div>\n",
       "<style scoped>\n",
       "    .dataframe tbody tr th:only-of-type {\n",
       "        vertical-align: middle;\n",
       "    }\n",
       "\n",
       "    .dataframe tbody tr th {\n",
       "        vertical-align: top;\n",
       "    }\n",
       "\n",
       "    .dataframe thead th {\n",
       "        text-align: right;\n",
       "    }\n",
       "</style>\n",
       "<table border=\"1\" class=\"dataframe\">\n",
       "  <thead>\n",
       "    <tr style=\"text-align: right;\">\n",
       "      <th></th>\n",
       "      <th>count</th>\n",
       "      <th>mean</th>\n",
       "      <th>std</th>\n",
       "      <th>min</th>\n",
       "      <th>median</th>\n",
       "      <th>max</th>\n",
       "    </tr>\n",
       "  </thead>\n",
       "  <tbody>\n",
       "    <tr>\n",
       "      <th>price_in_rp</th>\n",
       "      <td>3,553.00</td>\n",
       "      <td>4,030,074,866.31</td>\n",
       "      <td>9,783,270,716.90</td>\n",
       "      <td>42,000,000.00</td>\n",
       "      <td>1,500,000,000.00</td>\n",
       "      <td>250,000,000,000.00</td>\n",
       "    </tr>\n",
       "  </tbody>\n",
       "</table>\n",
       "</div>"
      ],
      "text/plain": [
       "               count             mean              std           min  \\\n",
       "price_in_rp 3,553.00 4,030,074,866.31 9,783,270,716.90 42,000,000.00   \n",
       "\n",
       "                      median                max  \n",
       "price_in_rp 1,500,000,000.00 250,000,000,000.00  "
      ]
     },
     "execution_count": 9,
     "metadata": {},
     "output_type": "execute_result"
    }
   ],
   "source": [
    "house_df.loc[house_df.price_in_rp == 580000000000, 'price_in_rp'] = 5800000000\n",
    "house_df[['price_in_rp']].describe(percentiles=[0.5]).T.rename(columns={'50%': 'median'})"
   ]
  },
  {
   "cell_type": "markdown",
   "metadata": {},
   "source": [
    "After further inspection, there is no other suspicious price that needed to be corrected. \n",
    "\n",
    "In later chapter, we will analyze the effect of the price using the more proven statistical approaches such as `outliers detection`, `high leverage observation`, and `cook distance`."
   ]
  },
  {
   "cell_type": "markdown",
   "metadata": {},
   "source": [
    "#### **Bedrooms & Bathrooms Records**"
   ]
  },
  {
   "cell_type": "code",
   "execution_count": 10,
   "metadata": {},
   "outputs": [
    {
     "data": {
      "text/html": [
       "<div>\n",
       "<style scoped>\n",
       "    .dataframe tbody tr th:only-of-type {\n",
       "        vertical-align: middle;\n",
       "    }\n",
       "\n",
       "    .dataframe tbody tr th {\n",
       "        vertical-align: top;\n",
       "    }\n",
       "\n",
       "    .dataframe thead th {\n",
       "        text-align: right;\n",
       "    }\n",
       "</style>\n",
       "<table border=\"1\" class=\"dataframe\">\n",
       "  <thead>\n",
       "    <tr style=\"text-align: right;\">\n",
       "      <th></th>\n",
       "      <th>count</th>\n",
       "      <th>mean</th>\n",
       "      <th>std</th>\n",
       "      <th>min</th>\n",
       "      <th>median</th>\n",
       "      <th>max</th>\n",
       "    </tr>\n",
       "  </thead>\n",
       "  <tbody>\n",
       "    <tr>\n",
       "      <th>bedrooms</th>\n",
       "      <td>3,519.00</td>\n",
       "      <td>3.33</td>\n",
       "      <td>2.67</td>\n",
       "      <td>1.00</td>\n",
       "      <td>3.00</td>\n",
       "      <td>99.00</td>\n",
       "    </tr>\n",
       "    <tr>\n",
       "      <th>bathrooms</th>\n",
       "      <td>3,524.00</td>\n",
       "      <td>2.62</td>\n",
       "      <td>2.70</td>\n",
       "      <td>1.00</td>\n",
       "      <td>2.00</td>\n",
       "      <td>99.00</td>\n",
       "    </tr>\n",
       "  </tbody>\n",
       "</table>\n",
       "</div>"
      ],
      "text/plain": [
       "             count  mean  std  min  median   max\n",
       "bedrooms  3,519.00  3.33 2.67 1.00    3.00 99.00\n",
       "bathrooms 3,524.00  2.62 2.70 1.00    2.00 99.00"
      ]
     },
     "execution_count": 10,
     "metadata": {},
     "output_type": "execute_result"
    }
   ],
   "source": [
    "{\"tags\": [\"hide-input\"]}\n",
    "\n",
    "house_df[['bedrooms', 'bathrooms']].describe(percentiles=[0.5]).T.rename(columns={'50%': 'median'})"
   ]
  },
  {
   "cell_type": "code",
   "execution_count": 11,
   "metadata": {},
   "outputs": [
    {
     "data": {
      "text/html": [
       "<div>\n",
       "<style scoped>\n",
       "    .dataframe tbody tr th:only-of-type {\n",
       "        vertical-align: middle;\n",
       "    }\n",
       "\n",
       "    .dataframe tbody tr th {\n",
       "        vertical-align: top;\n",
       "    }\n",
       "\n",
       "    .dataframe thead tr th {\n",
       "        text-align: left;\n",
       "    }\n",
       "</style>\n",
       "<table border=\"1\" class=\"dataframe\">\n",
       "  <thead>\n",
       "    <tr>\n",
       "      <th>bedrooms</th>\n",
       "      <th>1</th>\n",
       "      <th>2</th>\n",
       "      <th>3</th>\n",
       "      <th>4</th>\n",
       "      <th>5</th>\n",
       "      <th>6</th>\n",
       "      <th>7</th>\n",
       "      <th>8</th>\n",
       "      <th>9</th>\n",
       "      <th>10</th>\n",
       "      <th>11</th>\n",
       "      <th>12</th>\n",
       "      <th>13</th>\n",
       "      <th>16</th>\n",
       "      <th>20</th>\n",
       "      <th>21</th>\n",
       "      <th>36</th>\n",
       "      <th>37</th>\n",
       "      <th>50</th>\n",
       "      <th>54</th>\n",
       "      <th>57</th>\n",
       "      <th>99</th>\n",
       "    </tr>\n",
       "  </thead>\n",
       "  <tbody>\n",
       "    <tr>\n",
       "      <th>count</th>\n",
       "      <td>19</td>\n",
       "      <td>957</td>\n",
       "      <td>1379</td>\n",
       "      <td>802</td>\n",
       "      <td>218</td>\n",
       "      <td>93</td>\n",
       "      <td>14</td>\n",
       "      <td>10</td>\n",
       "      <td>2</td>\n",
       "      <td>5</td>\n",
       "      <td>2</td>\n",
       "      <td>5</td>\n",
       "      <td>2</td>\n",
       "      <td>2</td>\n",
       "      <td>2</td>\n",
       "      <td>1</td>\n",
       "      <td>1</td>\n",
       "      <td>1</td>\n",
       "      <td>1</td>\n",
       "      <td>1</td>\n",
       "      <td>1</td>\n",
       "      <td>1</td>\n",
       "    </tr>\n",
       "  </tbody>\n",
       "</table>\n",
       "</div>"
      ],
      "text/plain": [
       "bedrooms   1    2     3    4    5   6   7   8  9 10 11 12 13 16 20 21 36 37  \\\n",
       "count     19  957  1379  802  218  93  14  10  2  5  2  5  2  2  2  1  1  1   \n",
       "\n",
       "bedrooms 50 54 57 99  \n",
       "count     1  1  1  1  "
      ]
     },
     "execution_count": 11,
     "metadata": {},
     "output_type": "execute_result"
    }
   ],
   "source": [
    "pd.DataFrame({\n",
    "    'count':house_df[['bedrooms']].value_counts().sort_index()\n",
    "}).T"
   ]
  },
  {
   "cell_type": "code",
   "execution_count": 12,
   "metadata": {},
   "outputs": [
    {
     "data": {
      "text/html": [
       "<div>\n",
       "<style scoped>\n",
       "    .dataframe tbody tr th:only-of-type {\n",
       "        vertical-align: middle;\n",
       "    }\n",
       "\n",
       "    .dataframe tbody tr th {\n",
       "        vertical-align: top;\n",
       "    }\n",
       "\n",
       "    .dataframe thead tr th {\n",
       "        text-align: left;\n",
       "    }\n",
       "</style>\n",
       "<table border=\"1\" class=\"dataframe\">\n",
       "  <thead>\n",
       "    <tr>\n",
       "      <th>bathrooms</th>\n",
       "      <th>1</th>\n",
       "      <th>2</th>\n",
       "      <th>3</th>\n",
       "      <th>4</th>\n",
       "      <th>5</th>\n",
       "      <th>6</th>\n",
       "      <th>7</th>\n",
       "      <th>8</th>\n",
       "      <th>9</th>\n",
       "      <th>10</th>\n",
       "      <th>11</th>\n",
       "      <th>12</th>\n",
       "      <th>13</th>\n",
       "      <th>15</th>\n",
       "      <th>16</th>\n",
       "      <th>20</th>\n",
       "      <th>21</th>\n",
       "      <th>36</th>\n",
       "      <th>50</th>\n",
       "      <th>54</th>\n",
       "      <th>57</th>\n",
       "      <th>99</th>\n",
       "    </tr>\n",
       "  </thead>\n",
       "  <tbody>\n",
       "    <tr>\n",
       "      <th>count</th>\n",
       "      <td>779</td>\n",
       "      <td>1123</td>\n",
       "      <td>979</td>\n",
       "      <td>446</td>\n",
       "      <td>111</td>\n",
       "      <td>33</td>\n",
       "      <td>20</td>\n",
       "      <td>10</td>\n",
       "      <td>3</td>\n",
       "      <td>3</td>\n",
       "      <td>2</td>\n",
       "      <td>3</td>\n",
       "      <td>1</td>\n",
       "      <td>2</td>\n",
       "      <td>1</td>\n",
       "      <td>2</td>\n",
       "      <td>1</td>\n",
       "      <td>1</td>\n",
       "      <td>1</td>\n",
       "      <td>1</td>\n",
       "      <td>1</td>\n",
       "      <td>1</td>\n",
       "    </tr>\n",
       "  </tbody>\n",
       "</table>\n",
       "</div>"
      ],
      "text/plain": [
       "bathrooms    1     2    3    4    5   6   7   8  9 10 11 12 13 15 16 20 21 36  \\\n",
       "count      779  1123  979  446  111  33  20  10  3  3  2  3  1  2  1  2  1  1   \n",
       "\n",
       "bathrooms 50 54 57 99  \n",
       "count      1  1  1  1  "
      ]
     },
     "execution_count": 12,
     "metadata": {},
     "output_type": "execute_result"
    }
   ],
   "source": [
    "{\"tags\": [\"hide-input\"]}\n",
    "\n",
    "pd.DataFrame({\n",
    "    'count':house_df[['bathrooms']].value_counts().sort_index()\n",
    "}).T"
   ]
  },
  {
   "cell_type": "markdown",
   "metadata": {},
   "source": [
    "Simple logic, house with a large amount of bedrooms/bathrooms tends to associated with large building size. House with >= 20 bedrooms may raise suspicion (especially 99!)."
   ]
  },
  {
   "cell_type": "code",
   "execution_count": 13,
   "metadata": {},
   "outputs": [
    {
     "data": {
      "text/html": [
       "<div>\n",
       "<style scoped>\n",
       "    .dataframe tbody tr th:only-of-type {\n",
       "        vertical-align: middle;\n",
       "    }\n",
       "\n",
       "    .dataframe tbody tr th {\n",
       "        vertical-align: top;\n",
       "    }\n",
       "\n",
       "    .dataframe thead th {\n",
       "        text-align: right;\n",
       "    }\n",
       "</style>\n",
       "<table border=\"1\" class=\"dataframe\">\n",
       "  <thead>\n",
       "    <tr style=\"text-align: right;\">\n",
       "      <th></th>\n",
       "      <th>url</th>\n",
       "      <th>price_in_rp</th>\n",
       "      <th>bedrooms</th>\n",
       "      <th>land_size_m2</th>\n",
       "      <th>building_size_m2</th>\n",
       "      <th>floors</th>\n",
       "    </tr>\n",
       "  </thead>\n",
       "  <tbody>\n",
       "    <tr>\n",
       "      <th>2283</th>\n",
       "      <td>https://www.rumah123.com/properti/jakarta-sela...</td>\n",
       "      <td>26,000,000,000.00</td>\n",
       "      <td>20</td>\n",
       "      <td>915.00</td>\n",
       "      <td>600.00</td>\n",
       "      <td>2</td>\n",
       "    </tr>\n",
       "    <tr>\n",
       "      <th>2545</th>\n",
       "      <td>https://www.rumah123.com/properti/jakarta-sela...</td>\n",
       "      <td>27,000,000,000.00</td>\n",
       "      <td>20</td>\n",
       "      <td>1,195.00</td>\n",
       "      <td>950.00</td>\n",
       "      <td>2</td>\n",
       "    </tr>\n",
       "    <tr>\n",
       "      <th>2282</th>\n",
       "      <td>https://www.rumah123.com/properti/jakarta-sela...</td>\n",
       "      <td>26,000,000,000.00</td>\n",
       "      <td>21</td>\n",
       "      <td>900.00</td>\n",
       "      <td>700.00</td>\n",
       "      <td>2</td>\n",
       "    </tr>\n",
       "    <tr>\n",
       "      <th>346</th>\n",
       "      <td>https://www.rumah123.com/properti/bekasi/hos11...</td>\n",
       "      <td>9,000,000,000.00</td>\n",
       "      <td>36</td>\n",
       "      <td>939.00</td>\n",
       "      <td>500.00</td>\n",
       "      <td>1</td>\n",
       "    </tr>\n",
       "    <tr>\n",
       "      <th>1333</th>\n",
       "      <td>https://www.rumah123.com/properti/bogor/hos109...</td>\n",
       "      <td>2,700,000,000.00</td>\n",
       "      <td>37</td>\n",
       "      <td>500.00</td>\n",
       "      <td>350.00</td>\n",
       "      <td>1</td>\n",
       "    </tr>\n",
       "    <tr>\n",
       "      <th>2483</th>\n",
       "      <td>https://www.rumah123.com/properti/jakarta-sela...</td>\n",
       "      <td>30,000,000,000.00</td>\n",
       "      <td>50</td>\n",
       "      <td>517.00</td>\n",
       "      <td>2,417.00</td>\n",
       "      <td>5</td>\n",
       "    </tr>\n",
       "    <tr>\n",
       "      <th>2687</th>\n",
       "      <td>https://www.rumah123.com/properti/jakarta-sela...</td>\n",
       "      <td>28,000,000,000.00</td>\n",
       "      <td>54</td>\n",
       "      <td>890.00</td>\n",
       "      <td>1,800.00</td>\n",
       "      <td>5</td>\n",
       "    </tr>\n",
       "    <tr>\n",
       "      <th>2634</th>\n",
       "      <td>https://www.rumah123.com/properti/jakarta-sela...</td>\n",
       "      <td>11,800,000,000.00</td>\n",
       "      <td>57</td>\n",
       "      <td>491.00</td>\n",
       "      <td>1,500.00</td>\n",
       "      <td>4</td>\n",
       "    </tr>\n",
       "    <tr>\n",
       "      <th>2888</th>\n",
       "      <td>https://www.rumah123.com/properti/tangerang/ho...</td>\n",
       "      <td>55,000,000,000.00</td>\n",
       "      <td>99</td>\n",
       "      <td>1,150.00</td>\n",
       "      <td>6,000.00</td>\n",
       "      <td>4</td>\n",
       "    </tr>\n",
       "  </tbody>\n",
       "</table>\n",
       "</div>"
      ],
      "text/plain": [
       "                                                    url       price_in_rp  \\\n",
       "2283  https://www.rumah123.com/properti/jakarta-sela... 26,000,000,000.00   \n",
       "2545  https://www.rumah123.com/properti/jakarta-sela... 27,000,000,000.00   \n",
       "2282  https://www.rumah123.com/properti/jakarta-sela... 26,000,000,000.00   \n",
       "346   https://www.rumah123.com/properti/bekasi/hos11...  9,000,000,000.00   \n",
       "1333  https://www.rumah123.com/properti/bogor/hos109...  2,700,000,000.00   \n",
       "2483  https://www.rumah123.com/properti/jakarta-sela... 30,000,000,000.00   \n",
       "2687  https://www.rumah123.com/properti/jakarta-sela... 28,000,000,000.00   \n",
       "2634  https://www.rumah123.com/properti/jakarta-sela... 11,800,000,000.00   \n",
       "2888  https://www.rumah123.com/properti/tangerang/ho... 55,000,000,000.00   \n",
       "\n",
       "      bedrooms  land_size_m2  building_size_m2  floors  \n",
       "2283        20        915.00            600.00       2  \n",
       "2545        20      1,195.00            950.00       2  \n",
       "2282        21        900.00            700.00       2  \n",
       "346         36        939.00            500.00       1  \n",
       "1333        37        500.00            350.00       1  \n",
       "2483        50        517.00          2,417.00       5  \n",
       "2687        54        890.00          1,800.00       5  \n",
       "2634        57        491.00          1,500.00       4  \n",
       "2888        99      1,150.00          6,000.00       4  "
      ]
     },
     "execution_count": 13,
     "metadata": {},
     "output_type": "execute_result"
    }
   ],
   "source": [
    "large_bedrooms_inst = house_df.loc[\n",
    "        house_df.bedrooms >= 20, \n",
    "        ['url', 'price_in_rp', 'bedrooms', 'land_size_m2', 'building_size_m2', 'floors']\n",
    "    ].sort_values('bedrooms')\n",
    "\n",
    "large_bedrooms_inst"
   ]
  },
  {
   "cell_type": "markdown",
   "metadata": {},
   "source": [
    "Turns out that houses with large number of bedrooms is either `boarding house `(*kost*) or `guest house`."
   ]
  },
  {
   "cell_type": "markdown",
   "metadata": {},
   "source": [
    "#### **Garages**"
   ]
  },
  {
   "cell_type": "code",
   "execution_count": 14,
   "metadata": {},
   "outputs": [
    {
     "data": {
      "text/html": [
       "<div>\n",
       "<style scoped>\n",
       "    .dataframe tbody tr th:only-of-type {\n",
       "        vertical-align: middle;\n",
       "    }\n",
       "\n",
       "    .dataframe tbody tr th {\n",
       "        vertical-align: top;\n",
       "    }\n",
       "\n",
       "    .dataframe thead th {\n",
       "        text-align: right;\n",
       "    }\n",
       "</style>\n",
       "<table border=\"1\" class=\"dataframe\">\n",
       "  <thead>\n",
       "    <tr style=\"text-align: right;\">\n",
       "      <th></th>\n",
       "      <th>count</th>\n",
       "      <th>mean</th>\n",
       "      <th>std</th>\n",
       "      <th>min</th>\n",
       "      <th>median</th>\n",
       "      <th>max</th>\n",
       "    </tr>\n",
       "  </thead>\n",
       "  <tbody>\n",
       "    <tr>\n",
       "      <th>garages</th>\n",
       "      <td>3,553.00</td>\n",
       "      <td>0.71</td>\n",
       "      <td>1.31</td>\n",
       "      <td>0.00</td>\n",
       "      <td>0.00</td>\n",
       "      <td>50.00</td>\n",
       "    </tr>\n",
       "  </tbody>\n",
       "</table>\n",
       "</div>"
      ],
      "text/plain": [
       "           count  mean  std  min  median   max\n",
       "garages 3,553.00  0.71 1.31 0.00    0.00 50.00"
      ]
     },
     "execution_count": 14,
     "metadata": {},
     "output_type": "execute_result"
    }
   ],
   "source": [
    "{\"tags\": [\"hide-input\"]}\n",
    "\n",
    "house_df[['garages']].describe(percentiles=[0.5]).T.rename(columns={'50%': 'median'})"
   ]
  },
  {
   "cell_type": "code",
   "execution_count": 15,
   "metadata": {},
   "outputs": [
    {
     "data": {
      "text/html": [
       "<div>\n",
       "<style scoped>\n",
       "    .dataframe tbody tr th:only-of-type {\n",
       "        vertical-align: middle;\n",
       "    }\n",
       "\n",
       "    .dataframe tbody tr th {\n",
       "        vertical-align: top;\n",
       "    }\n",
       "\n",
       "    .dataframe thead tr th {\n",
       "        text-align: left;\n",
       "    }\n",
       "</style>\n",
       "<table border=\"1\" class=\"dataframe\">\n",
       "  <thead>\n",
       "    <tr>\n",
       "      <th>garages</th>\n",
       "      <th>0</th>\n",
       "      <th>1</th>\n",
       "      <th>2</th>\n",
       "      <th>3</th>\n",
       "      <th>4</th>\n",
       "      <th>5</th>\n",
       "      <th>6</th>\n",
       "      <th>10</th>\n",
       "      <th>12</th>\n",
       "      <th>20</th>\n",
       "      <th>50</th>\n",
       "    </tr>\n",
       "  </thead>\n",
       "  <tbody>\n",
       "    <tr>\n",
       "      <th>count</th>\n",
       "      <td>1921</td>\n",
       "      <td>1018</td>\n",
       "      <td>519</td>\n",
       "      <td>31</td>\n",
       "      <td>42</td>\n",
       "      <td>6</td>\n",
       "      <td>10</td>\n",
       "      <td>3</td>\n",
       "      <td>1</td>\n",
       "      <td>1</td>\n",
       "      <td>1</td>\n",
       "    </tr>\n",
       "  </tbody>\n",
       "</table>\n",
       "</div>"
      ],
      "text/plain": [
       "garages     0     1    2   3   4  5   6 10 12 20 50\n",
       "count    1921  1018  519  31  42  6  10  3  1  1  1"
      ]
     },
     "execution_count": 15,
     "metadata": {},
     "output_type": "execute_result"
    }
   ],
   "source": [
    "{\"tags\": [\"hide-input\"]}\n",
    "\n",
    "pd.DataFrame({\n",
    "    'count':house_df[['garages']].value_counts().sort_index()\n",
    "}).T"
   ]
  },
  {
   "cell_type": "markdown",
   "metadata": {},
   "source": [
    "Let's inspect house with 50 garages:"
   ]
  },
  {
   "cell_type": "code",
   "execution_count": 16,
   "metadata": {},
   "outputs": [
    {
     "data": {
      "text/html": [
       "<div>\n",
       "<style scoped>\n",
       "    .dataframe tbody tr th:only-of-type {\n",
       "        vertical-align: middle;\n",
       "    }\n",
       "\n",
       "    .dataframe tbody tr th {\n",
       "        vertical-align: top;\n",
       "    }\n",
       "\n",
       "    .dataframe thead th {\n",
       "        text-align: right;\n",
       "    }\n",
       "</style>\n",
       "<table border=\"1\" class=\"dataframe\">\n",
       "  <thead>\n",
       "    <tr style=\"text-align: right;\">\n",
       "      <th></th>\n",
       "      <th>url</th>\n",
       "      <th>price_in_rp</th>\n",
       "      <th>bedrooms</th>\n",
       "      <th>land_size_m2</th>\n",
       "      <th>building_size_m2</th>\n",
       "      <th>floors</th>\n",
       "      <th>garages</th>\n",
       "    </tr>\n",
       "  </thead>\n",
       "  <tbody>\n",
       "    <tr>\n",
       "      <th>2888</th>\n",
       "      <td>https://www.rumah123.com/properti/tangerang/ho...</td>\n",
       "      <td>55,000,000,000.00</td>\n",
       "      <td>99</td>\n",
       "      <td>1,150.00</td>\n",
       "      <td>6,000.00</td>\n",
       "      <td>4</td>\n",
       "      <td>50</td>\n",
       "    </tr>\n",
       "  </tbody>\n",
       "</table>\n",
       "</div>"
      ],
      "text/plain": [
       "                                                    url       price_in_rp  \\\n",
       "2888  https://www.rumah123.com/properti/tangerang/ho... 55,000,000,000.00   \n",
       "\n",
       "      bedrooms  land_size_m2  building_size_m2  floors  garages  \n",
       "2888        99      1,150.00          6,000.00       4       50  "
      ]
     },
     "execution_count": 16,
     "metadata": {},
     "output_type": "execute_result"
    }
   ],
   "source": [
    "large_garages_inst = house_df.loc[\n",
    "        house_df.garages >= 50, \n",
    "        ['url', 'price_in_rp', 'bedrooms', 'land_size_m2', 'building_size_m2', 'floors', 'garages']\n",
    "    ]\n",
    "\n",
    "large_garages_inst"
   ]
  },
  {
   "cell_type": "markdown",
   "metadata": {},
   "source": [
    "Turns out that houses with large number of garages is the house with 50 bedrooms i.e. the `boarding house `(*kost*), which explains the provided capacities for vehicle."
   ]
  },
  {
   "cell_type": "markdown",
   "metadata": {},
   "source": [
    "## 2.4. Zeroes and Missing Records"
   ]
  },
  {
   "cell_type": "markdown",
   "metadata": {},
   "source": [
    "#### **Zeroes Records**"
   ]
  },
  {
   "cell_type": "markdown",
   "metadata": {},
   "source": [
    "Records containing zero values are rather not ambiguous. For example, if `maid_bedrooms = 0`, it explains that this house doesn't provide bedroom for maid. Similar reasoning can safely be applied for other features, except for: `price in rp`, `lat`, `long`, `bedrooms`, `bathrooms`, `lands & building size`, and `floors`.\n",
    "\n",
    "Let's explore proportion of zeroes records for each feature contains numerical data:"
   ]
  },
  {
   "cell_type": "code",
   "execution_count": 17,
   "metadata": {},
   "outputs": [
    {
     "data": {
      "text/html": [
       "<div>\n",
       "<style scoped>\n",
       "    .dataframe tbody tr th:only-of-type {\n",
       "        vertical-align: middle;\n",
       "    }\n",
       "\n",
       "    .dataframe tbody tr th {\n",
       "        vertical-align: top;\n",
       "    }\n",
       "\n",
       "    .dataframe thead th {\n",
       "        text-align: right;\n",
       "    }\n",
       "</style>\n",
       "<table border=\"1\" class=\"dataframe\">\n",
       "  <thead>\n",
       "    <tr style=\"text-align: right;\">\n",
       "      <th></th>\n",
       "      <th>Zeroes Count</th>\n",
       "      <th>Zeroes Percentage (%)</th>\n",
       "      <th>Data Types</th>\n",
       "    </tr>\n",
       "  </thead>\n",
       "  <tbody>\n",
       "    <tr>\n",
       "      <th>price_in_rp</th>\n",
       "      <td>0</td>\n",
       "      <td>0.00</td>\n",
       "      <td>float64</td>\n",
       "    </tr>\n",
       "    <tr>\n",
       "      <th>lat</th>\n",
       "      <td>0</td>\n",
       "      <td>0.00</td>\n",
       "      <td>float64</td>\n",
       "    </tr>\n",
       "    <tr>\n",
       "      <th>long</th>\n",
       "      <td>0</td>\n",
       "      <td>0.00</td>\n",
       "      <td>float64</td>\n",
       "    </tr>\n",
       "    <tr>\n",
       "      <th>bedrooms</th>\n",
       "      <td>0</td>\n",
       "      <td>0.00</td>\n",
       "      <td>Int64</td>\n",
       "    </tr>\n",
       "    <tr>\n",
       "      <th>bathrooms</th>\n",
       "      <td>0</td>\n",
       "      <td>0.00</td>\n",
       "      <td>Int64</td>\n",
       "    </tr>\n",
       "    <tr>\n",
       "      <th>land_size_m2</th>\n",
       "      <td>0</td>\n",
       "      <td>0.00</td>\n",
       "      <td>float64</td>\n",
       "    </tr>\n",
       "    <tr>\n",
       "      <th>building_size_m2</th>\n",
       "      <td>0</td>\n",
       "      <td>0.00</td>\n",
       "      <td>float64</td>\n",
       "    </tr>\n",
       "    <tr>\n",
       "      <th>carports</th>\n",
       "      <td>757</td>\n",
       "      <td>21.31</td>\n",
       "      <td>Int64</td>\n",
       "    </tr>\n",
       "    <tr>\n",
       "      <th>maid_bedrooms</th>\n",
       "      <td>2078</td>\n",
       "      <td>58.49</td>\n",
       "      <td>Int64</td>\n",
       "    </tr>\n",
       "    <tr>\n",
       "      <th>maid_bathrooms</th>\n",
       "      <td>2313</td>\n",
       "      <td>65.10</td>\n",
       "      <td>Int64</td>\n",
       "    </tr>\n",
       "    <tr>\n",
       "      <th>floors</th>\n",
       "      <td>0</td>\n",
       "      <td>0.00</td>\n",
       "      <td>Int64</td>\n",
       "    </tr>\n",
       "    <tr>\n",
       "      <th>building_age</th>\n",
       "      <td>1051</td>\n",
       "      <td>29.58</td>\n",
       "      <td>Int64</td>\n",
       "    </tr>\n",
       "    <tr>\n",
       "      <th>year_built</th>\n",
       "      <td>0</td>\n",
       "      <td>0.00</td>\n",
       "      <td>Int64</td>\n",
       "    </tr>\n",
       "    <tr>\n",
       "      <th>garages</th>\n",
       "      <td>1921</td>\n",
       "      <td>54.07</td>\n",
       "      <td>Int64</td>\n",
       "    </tr>\n",
       "  </tbody>\n",
       "</table>\n",
       "</div>"
      ],
      "text/plain": [
       "                  Zeroes Count  Zeroes Percentage (%) Data Types\n",
       "price_in_rp                  0                   0.00    float64\n",
       "lat                          0                   0.00    float64\n",
       "long                         0                   0.00    float64\n",
       "bedrooms                     0                   0.00      Int64\n",
       "bathrooms                    0                   0.00      Int64\n",
       "land_size_m2                 0                   0.00    float64\n",
       "building_size_m2             0                   0.00    float64\n",
       "carports                   757                  21.31      Int64\n",
       "maid_bedrooms             2078                  58.49      Int64\n",
       "maid_bathrooms            2313                  65.10      Int64\n",
       "floors                       0                   0.00      Int64\n",
       "building_age              1051                  29.58      Int64\n",
       "year_built                   0                   0.00      Int64\n",
       "garages                   1921                  54.07      Int64"
      ]
     },
     "execution_count": 17,
     "metadata": {},
     "output_type": "execute_result"
    }
   ],
   "source": [
    "numerical_features = house_df.select_dtypes(exclude=['object', 'category']).columns\n",
    "total_records = house_df.shape[0]\n",
    "zeroes = (house_df[numerical_features] == 0).sum()\n",
    "zeroes_percent = zeroes / total_records * 100\n",
    "data_types = house_df[numerical_features].dtypes\n",
    "\n",
    "pd.DataFrame({'Zeroes Count': zeroes, \n",
    "    'Zeroes Percentage (%)': zeroes_percent,\n",
    "    'Data Types': data_types\n",
    "})"
   ]
  },
  {
   "cell_type": "markdown",
   "metadata": {},
   "source": [
    "Fortunately, primary characteristics of the house doesn't contains zeroes. "
   ]
  },
  {
   "cell_type": "markdown",
   "metadata": {},
   "source": [
    "#### **Missing Records**"
   ]
  },
  {
   "cell_type": "markdown",
   "metadata": {},
   "source": [
    "Let's fist explore missing records for numerical features."
   ]
  },
  {
   "cell_type": "code",
   "execution_count": 18,
   "metadata": {},
   "outputs": [
    {
     "data": {
      "text/html": [
       "<div>\n",
       "<style scoped>\n",
       "    .dataframe tbody tr th:only-of-type {\n",
       "        vertical-align: middle;\n",
       "    }\n",
       "\n",
       "    .dataframe tbody tr th {\n",
       "        vertical-align: top;\n",
       "    }\n",
       "\n",
       "    .dataframe thead th {\n",
       "        text-align: right;\n",
       "    }\n",
       "</style>\n",
       "<table border=\"1\" class=\"dataframe\">\n",
       "  <thead>\n",
       "    <tr style=\"text-align: right;\">\n",
       "      <th></th>\n",
       "      <th>NaN Count</th>\n",
       "      <th>NaN Percentage (%)</th>\n",
       "      <th>Data Types</th>\n",
       "    </tr>\n",
       "  </thead>\n",
       "  <tbody>\n",
       "    <tr>\n",
       "      <th>price_in_rp</th>\n",
       "      <td>0</td>\n",
       "      <td>0.00</td>\n",
       "      <td>float64</td>\n",
       "    </tr>\n",
       "    <tr>\n",
       "      <th>lat</th>\n",
       "      <td>0</td>\n",
       "      <td>0.00</td>\n",
       "      <td>float64</td>\n",
       "    </tr>\n",
       "    <tr>\n",
       "      <th>long</th>\n",
       "      <td>0</td>\n",
       "      <td>0.00</td>\n",
       "      <td>float64</td>\n",
       "    </tr>\n",
       "    <tr>\n",
       "      <th>bedrooms</th>\n",
       "      <td>34</td>\n",
       "      <td>0.96</td>\n",
       "      <td>Int64</td>\n",
       "    </tr>\n",
       "    <tr>\n",
       "      <th>bathrooms</th>\n",
       "      <td>29</td>\n",
       "      <td>0.82</td>\n",
       "      <td>Int64</td>\n",
       "    </tr>\n",
       "    <tr>\n",
       "      <th>land_size_m2</th>\n",
       "      <td>2</td>\n",
       "      <td>0.06</td>\n",
       "      <td>float64</td>\n",
       "    </tr>\n",
       "    <tr>\n",
       "      <th>building_size_m2</th>\n",
       "      <td>2</td>\n",
       "      <td>0.06</td>\n",
       "      <td>float64</td>\n",
       "    </tr>\n",
       "    <tr>\n",
       "      <th>carports</th>\n",
       "      <td>0</td>\n",
       "      <td>0.00</td>\n",
       "      <td>Int64</td>\n",
       "    </tr>\n",
       "    <tr>\n",
       "      <th>maid_bedrooms</th>\n",
       "      <td>0</td>\n",
       "      <td>0.00</td>\n",
       "      <td>Int64</td>\n",
       "    </tr>\n",
       "    <tr>\n",
       "      <th>maid_bathrooms</th>\n",
       "      <td>0</td>\n",
       "      <td>0.00</td>\n",
       "      <td>Int64</td>\n",
       "    </tr>\n",
       "    <tr>\n",
       "      <th>floors</th>\n",
       "      <td>6</td>\n",
       "      <td>0.17</td>\n",
       "      <td>Int64</td>\n",
       "    </tr>\n",
       "    <tr>\n",
       "      <th>building_age</th>\n",
       "      <td>1445</td>\n",
       "      <td>40.67</td>\n",
       "      <td>Int64</td>\n",
       "    </tr>\n",
       "    <tr>\n",
       "      <th>year_built</th>\n",
       "      <td>1445</td>\n",
       "      <td>40.67</td>\n",
       "      <td>Int64</td>\n",
       "    </tr>\n",
       "    <tr>\n",
       "      <th>garages</th>\n",
       "      <td>0</td>\n",
       "      <td>0.00</td>\n",
       "      <td>Int64</td>\n",
       "    </tr>\n",
       "  </tbody>\n",
       "</table>\n",
       "</div>"
      ],
      "text/plain": [
       "                  NaN Count  NaN Percentage (%) Data Types\n",
       "price_in_rp               0                0.00    float64\n",
       "lat                       0                0.00    float64\n",
       "long                      0                0.00    float64\n",
       "bedrooms                 34                0.96      Int64\n",
       "bathrooms                29                0.82      Int64\n",
       "land_size_m2              2                0.06    float64\n",
       "building_size_m2          2                0.06    float64\n",
       "carports                  0                0.00      Int64\n",
       "maid_bedrooms             0                0.00      Int64\n",
       "maid_bathrooms            0                0.00      Int64\n",
       "floors                    6                0.17      Int64\n",
       "building_age           1445               40.67      Int64\n",
       "year_built             1445               40.67      Int64\n",
       "garages                   0                0.00      Int64"
      ]
     },
     "execution_count": 18,
     "metadata": {},
     "output_type": "execute_result"
    }
   ],
   "source": [
    "nans = (house_df[numerical_features].isna()).sum()\n",
    "nans_percent = nans / total_records * 100\n",
    "data_types = house_df[numerical_features].dtypes\n",
    "\n",
    "pd.DataFrame({'NaN Count': nans, \n",
    "    'NaN Percentage (%)': nans_percent,\n",
    "    'Data Types': data_types\n",
    "})"
   ]
  },
  {
   "cell_type": "markdown",
   "metadata": {},
   "source": [
    "Almost half of the dataset contains observations with missing `building_age`, so deducting analysis from this features is not appropriate.\n",
    "\n",
    "For other features with missing records, it is safe to ignore those observations since they only cover less than 1% of total rows in the dataset.\n",
    "\n",
    "For categorical and string features:"
   ]
  },
  {
   "cell_type": "code",
   "execution_count": 19,
   "metadata": {},
   "outputs": [
    {
     "data": {
      "text/html": [
       "<div>\n",
       "<style scoped>\n",
       "    .dataframe tbody tr th:only-of-type {\n",
       "        vertical-align: middle;\n",
       "    }\n",
       "\n",
       "    .dataframe tbody tr th {\n",
       "        vertical-align: top;\n",
       "    }\n",
       "\n",
       "    .dataframe thead th {\n",
       "        text-align: right;\n",
       "    }\n",
       "</style>\n",
       "<table border=\"1\" class=\"dataframe\">\n",
       "  <thead>\n",
       "    <tr style=\"text-align: right;\">\n",
       "      <th></th>\n",
       "      <th>NaN Count</th>\n",
       "      <th>NaN Percentage (%)</th>\n",
       "      <th>Data Types</th>\n",
       "    </tr>\n",
       "  </thead>\n",
       "  <tbody>\n",
       "    <tr>\n",
       "      <th>url</th>\n",
       "      <td>0</td>\n",
       "      <td>0.00</td>\n",
       "      <td>object</td>\n",
       "    </tr>\n",
       "    <tr>\n",
       "      <th>title</th>\n",
       "      <td>0</td>\n",
       "      <td>0.00</td>\n",
       "      <td>object</td>\n",
       "    </tr>\n",
       "    <tr>\n",
       "      <th>address</th>\n",
       "      <td>0</td>\n",
       "      <td>0.00</td>\n",
       "      <td>object</td>\n",
       "    </tr>\n",
       "    <tr>\n",
       "      <th>district</th>\n",
       "      <td>0</td>\n",
       "      <td>0.00</td>\n",
       "      <td>object</td>\n",
       "    </tr>\n",
       "    <tr>\n",
       "      <th>city</th>\n",
       "      <td>0</td>\n",
       "      <td>0.00</td>\n",
       "      <td>object</td>\n",
       "    </tr>\n",
       "    <tr>\n",
       "      <th>facilities</th>\n",
       "      <td>0</td>\n",
       "      <td>0.00</td>\n",
       "      <td>object</td>\n",
       "    </tr>\n",
       "    <tr>\n",
       "      <th>property_type</th>\n",
       "      <td>1</td>\n",
       "      <td>0.03</td>\n",
       "      <td>category</td>\n",
       "    </tr>\n",
       "    <tr>\n",
       "      <th>ads_id</th>\n",
       "      <td>4</td>\n",
       "      <td>0.11</td>\n",
       "      <td>object</td>\n",
       "    </tr>\n",
       "    <tr>\n",
       "      <th>certificate</th>\n",
       "      <td>141</td>\n",
       "      <td>3.97</td>\n",
       "      <td>category</td>\n",
       "    </tr>\n",
       "    <tr>\n",
       "      <th>electricity</th>\n",
       "      <td>0</td>\n",
       "      <td>0.00</td>\n",
       "      <td>category</td>\n",
       "    </tr>\n",
       "    <tr>\n",
       "      <th>property_condition</th>\n",
       "      <td>246</td>\n",
       "      <td>6.92</td>\n",
       "      <td>category</td>\n",
       "    </tr>\n",
       "    <tr>\n",
       "      <th>building_orientation</th>\n",
       "      <td>1647</td>\n",
       "      <td>46.36</td>\n",
       "      <td>category</td>\n",
       "    </tr>\n",
       "    <tr>\n",
       "      <th>furnishing</th>\n",
       "      <td>387</td>\n",
       "      <td>10.89</td>\n",
       "      <td>category</td>\n",
       "    </tr>\n",
       "  </tbody>\n",
       "</table>\n",
       "</div>"
      ],
      "text/plain": [
       "                      NaN Count  NaN Percentage (%) Data Types\n",
       "url                           0                0.00     object\n",
       "title                         0                0.00     object\n",
       "address                       0                0.00     object\n",
       "district                      0                0.00     object\n",
       "city                          0                0.00     object\n",
       "facilities                    0                0.00     object\n",
       "property_type                 1                0.03   category\n",
       "ads_id                        4                0.11     object\n",
       "certificate                 141                3.97   category\n",
       "electricity                   0                0.00   category\n",
       "property_condition          246                6.92   category\n",
       "building_orientation       1647               46.36   category\n",
       "furnishing                  387               10.89   category"
      ]
     },
     "execution_count": 19,
     "metadata": {},
     "output_type": "execute_result"
    }
   ],
   "source": [
    "non_numeric_features = house_df.select_dtypes(include=['object', 'category']).columns\n",
    "nans = (house_df[non_numeric_features].isna()).sum()\n",
    "nans_percent = nans / total_records * 100\n",
    "data_types = house_df[non_numeric_features].dtypes\n",
    "\n",
    "pd.DataFrame({'NaN Count': nans, \n",
    "    'NaN Percentage (%)': nans_percent,\n",
    "    'Data Types': data_types\n",
    "})"
   ]
  },
  {
   "cell_type": "markdown",
   "metadata": {},
   "source": [
    "Other than `building_orientation`, those features suffers from zero to slightly missing records."
   ]
  },
  {
   "cell_type": "markdown",
   "metadata": {},
   "source": [
    "# 3. Data Exploration"
   ]
  },
  {
   "cell_type": "markdown",
   "metadata": {},
   "source": [
    "## 3.1. Analysis of House Price"
   ]
  },
  {
   "cell_type": "code",
   "execution_count": 82,
   "metadata": {},
   "outputs": [
    {
     "data": {
      "image/png": "[encoded data removed]",
      "text/plain": [
       "<Figure size 1152x360 with 2 Axes>"
      ]
     },
     "metadata": {
      "needs_background": "light"
     },
     "output_type": "display_data"
    }
   ],
   "source": [
    "from matplotlib.ticker import FormatStrFormatter\n",
    "\n",
    "median = house_df['price_in_rp'].median()\n",
    "fig, ax = plt.subplots(1, 2, figsize=(16, 5))\n",
    "sns.histplot(\n",
    "    data=house_df, x='price_in_rp', kde=True, \n",
    "    log_scale=True, ax=ax[0]\n",
    "    )\n",
    "sns.ecdfplot(\n",
    "    data=house_df, x='price_in_rp', log_scale=True, ax=ax[1]\n",
    ")\n",
    "ax[0].set_title('House Price Histogram')\n",
    "ax[1].axhline(y=0.5, ls='--', color='black')\n",
    "ax[1].text(x=5*10e6, y=0.52, s=f'Proportion = 0.5,\\nMedian={median:,.0f}')\n",
    "ax[1].set_title('Empirical Cumulative Density Function')\n",
    "for ax_ in ax:\n",
    "    ax_.set_xlabel('House Price, in IDR')"
   ]
  },
  {
   "cell_type": "code",
   "execution_count": 183,
   "metadata": {},
   "outputs": [
    {
     "data": {
      "image/png": "[encoded data removed]",
      "text/plain": [
       "<Figure size 1008x360 with 1 Axes>"
      ]
     },
     "metadata": {
      "needs_background": "light"
     },
     "output_type": "display_data"
    }
   ],
   "source": [
    "{\"tags\": [\"hide-input\"]}\n",
    "\n",
    "house_df_simple = house_df.copy()\n",
    "house_df_simple.loc[house_df_simple.city.str.contains('Jakarta'), 'city'] = ' DKI Jakarta'\n",
    "median = house_df_simple[['city', 'price_in_rp']]\\\n",
    "    .groupby('city')\\\n",
    "    .aggregate(np.median)\\\n",
    "    .reset_index()\\\n",
    "    .sort_values('price_in_rp', ascending=False)\n",
    "# plot_order = list(median.sort_values('price_in_rp', ascending=False).city)\n",
    "plt.figure(figsize=(14, 5))\n",
    "sns.barplot(y='city', x='price_in_rp',data=median)\n",
    "for y, x in enumerate(median.price_in_rp):\n",
    "    plt.text(x=x, y=y, s=f'Rp. {x:,.0f} ', ha='right', color='white')\n",
    "plt.title('Jabodetabek House Price, Median')\n",
    "plt.xlabel('House Price, IDR')\n",
    "plt.ylabel('City')\n",
    "current_xticks = plt.xticks()[0][:-1]\n",
    "plt.xticks(current_xticks, ['{:,.0f}'.format(x) for x in current_xticks])\n",
    "plt.show()\n"
   ]
  },
  {
   "cell_type": "code",
   "execution_count": 94,
   "metadata": {},
   "outputs": [
    {
     "data": {
      "image/png": "[encoded data removed]",
      "text/plain": [
       "<Figure size 1152x360 with 2 Axes>"
      ]
     },
     "metadata": {
      "needs_background": "light"
     },
     "output_type": "display_data"
    }
   ],
   "source": [
    "{\"tags\": [\"hide-input\"]}\n",
    "\n",
    "fig, ax = plt.subplots(1, 2, figsize=(16, 5))\n",
    "sns.kdeplot(\n",
    "    data=house_df_simple, x='price_in_rp',\n",
    "    log_scale=True, hue='city', ax=ax[0]\n",
    "    )\n",
    "sns.ecdfplot(\n",
    "    data=house_df_simple, x='price_in_rp', \n",
    "    log_scale=True, hue='city', ax=ax[1]\n",
    ")\n",
    "ax[0].set_title('House Price Historgram')\n",
    "ax[1].axhline(y=0.5, ls='--', color='black')\n",
    "ax[1].text(x=5*10e6, y=0.52, s=f'Proportion = 0.5')\n",
    "ax[1].set_title('Empirical Cumulative Density Function')\n",
    "for ax_ in ax:\n",
    "    ax_.set_xlabel('House Price, in IDR')"
   ]
  },
  {
   "cell_type": "markdown",
   "metadata": {},
   "source": [
    "#### **DKI Jakarta House Price**"
   ]
  },
  {
   "cell_type": "code",
   "execution_count": 181,
   "metadata": {},
   "outputs": [
    {
     "data": {
      "image/png": "[encoded data removed]",
      "text/plain": [
       "<Figure size 1008x360 with 1 Axes>"
      ]
     },
     "metadata": {
      "needs_background": "light"
     },
     "output_type": "display_data"
    }
   ],
   "source": [
    "%matplotlib inline\n",
    "house_df_jakarta = house_df[house_df.city.str.contains('Jakarta')]\n",
    "median = house_df_jakarta[['city', 'price_in_rp']]\\\n",
    "    .groupby('city')\\\n",
    "    .aggregate(np.median)\\\n",
    "    .reset_index()\\\n",
    "    .sort_values('price_in_rp', ascending=False)\n",
    "# plot_order = list(median.sort_values('price_in_rp', ascending=False).city)\n",
    "plt.figure(figsize=(14, 5))\n",
    "sns.barplot(y='city', x='price_in_rp',data=median)\n",
    "for y, x in enumerate(median.price_in_rp):\n",
    "    plt.text(x=x, y=y, s=f'Rp. {x:,.0f} ', ha='right', color='white')\n",
    "plt.title('DKI Jakarta House Price, Median')\n",
    "plt.xlabel('House Price, IDR')\n",
    "plt.ylabel('City')\n",
    "current_xticks = plt.xticks()[0][:-1]\n",
    "plt.xticks(current_xticks, ['{:,.0f}'.format(x) for x in current_xticks])\n",
    "plt.show()"
   ]
  },
  {
   "cell_type": "code",
   "execution_count": 145,
   "metadata": {},
   "outputs": [
    {
     "data": {
      "image/png": "[encoded data removed]",
      "text/plain": [
       "<Figure size 1152x360 with 2 Axes>"
      ]
     },
     "metadata": {
      "needs_background": "light"
     },
     "output_type": "display_data"
    }
   ],
   "source": [
    "\n",
    "fig, ax = plt.subplots(1, 2, figsize=(16, 5))\n",
    "sns.kdeplot(\n",
    "    data=house_df_jakarta, x='price_in_rp',\n",
    "    log_scale=True, hue='city', ax=ax[0]\n",
    "    )\n",
    "sns.ecdfplot(\n",
    "    data=house_df_jakarta, x='price_in_rp', \n",
    "    log_scale=True, hue='city', ax=ax[1]\n",
    ")\n",
    "ax[0].set_title('House Price Historgram, DKI Jakarta')\n",
    "ax[1].axhline(y=0.5, ls='--', color='black')\n",
    "ax[1].text(x=5*10e7, y=0.52, s=f'Proportion = 0.5')\n",
    "ax[1].set_title('Empirical Cumulative Density Function, DKI Jakarta')\n",
    "for ax_ in ax:\n",
    "    ax_.set_xlabel('House Price, in IDR')"
   ]
  },
  {
   "cell_type": "markdown",
   "metadata": {},
   "source": [
    "#### **Inferences about Median House Price**"
   ]
  },
  {
   "cell_type": "markdown",
   "metadata": {},
   "source": [
    "# References\n",
    "\n",
    "1. 'rumah123.com'"
   ]
  }
 ],
 "metadata": {
  "kernelspec": {
   "display_name": "Python 3.8.13 ('general_ds')",
   "language": "python",
   "name": "python3"
  },
  "language_info": {
   "codemirror_mode": {
    "name": "ipython",
    "version": 3
   },
   "file_extension": ".py",
   "mimetype": "text/x-python",
   "name": "python",
   "nbconvert_exporter": "python",
   "pygments_lexer": "ipython3",
   "version": "3.8.13"
  },
  "orig_nbformat": 4,
  "vscode": {
   "interpreter": {
    "hash": "c2892b95998397e64822f38de2e41a1410cc5bda2d9d70e92f4ade4b6aa0470a"
   }
  }
 },
 "nbformat": 4,
 "nbformat_minor": 2
}
