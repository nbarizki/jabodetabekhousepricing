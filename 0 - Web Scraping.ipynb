{
 "cells": [
  {
   "cell_type": "markdown",
   "metadata": {},
   "source": [
    "# Web Scraping"
   ]
  },
  {
   "cell_type": "markdown",
   "metadata": {},
   "source": [
    "## 1. Introduction"
   ]
  },
  {
   "cell_type": "markdown",
   "metadata": {},
   "source": [
    "## 2. Requirements"
   ]
  },
  {
   "cell_type": "markdown",
   "metadata": {},
   "source": [
    "In order to access website using `Chrome Webdriver`, one must verify that:\n",
    "\n",
    "1. `Chrome` (denotes the *fully installed version of Chrome Browser*) must be installed in the system. Identify the **installed version** of *Chrome* first.\n",
    "2. `Chrome Webdriver` must be provided, which its **version** shall match the **installed version** of `Chrome`. Further explanation on this can be found in https://chromedriver.chromium.org/downloads/version-selection. Download the matched version of `Chrome Webdriver`, the file name will be `chromedriver.exe`.\n",
    "3. Make sure that `Chrome Webdriver` can be detected while utilizing `Selenium` from python. I choose to add the `chromedriver.exe` executable file path to ChromeDriver when instantiating `webdriver.Chrome`.\n",
    "\n",
    " <center><img src=\"Scraped_Data\\pic\\1_chromedriver_version.png\"/></center>\n",
    "\n",
    " *<center> Matching `Chrome` version with `Chrome Webdriver` version</center>*"
   ]
  },
  {
   "cell_type": "markdown",
   "metadata": {},
   "source": [
    "## 2. Web Scraping Flow"
   ]
  },
  {
   "cell_type": "code",
   "execution_count": 7,
   "metadata": {},
   "outputs": [],
   "source": [
    "from selenium import webdriver\n",
    "from bs4 import BeautifulSoup\n",
    "import time\n",
    "import numpy as np"
   ]
  },
  {
   "cell_type": "code",
   "execution_count": 8,
   "metadata": {},
   "outputs": [],
   "source": [
    "URL = 'https://www.rumah123.com/jual/residensial/?place[]=dki-jakarta&place[]=bogor&place[]=depok&place[]=bekasi,bekasi&placeId[]=8de06376-49a3-4369-a01b-00085aefe766&placeId[]=dfd71096-eda2-4776-b3ca-542d8c5fb12b&placeId[]=a4a34395-ebe5-4930-9456-df327a9f484a&placeId[]=66899e8e-4896-467b-8e54-ab7c533bd616#qid~a0314d88-70ff-4b6c-b4bd-45f4c9f41d04'\n",
    "browser = webdriver.Chrome('D:\\\\chromedriver.exe')\n",
    "browser.implicitly_wait(10)\n",
    "browser.get(URL)\n",
    "time.sleep(float(np.random.uniform(5, 280, 1)))\n"
   ]
  },
  {
   "cell_type": "markdown",
   "metadata": {},
   "source": [
    "### 2.1. Accessing `main entry list`"
   ]
  },
  {
   "cell_type": "markdown",
   "metadata": {},
   "source": [
    "All of the house listings in main page is stored in `listing-container` as below snapshot. We are going to retrieve all of the listings in a single page by accessing this `XPath`.\n",
    "\n",
    "\n",
    " <center><img src=\"Scraped_Data\\pic\\2_Main_content.png\"/></center>\n",
    "\n",
    " <center><img src=\"Scraped_Data\\pic\\3_Listing_card.png\"/></center>\n",
    "\n",
    " *<center> Webpage structure of house listing </center>*"
   ]
  },
  {
   "cell_type": "code",
   "execution_count": 20,
   "metadata": {},
   "outputs": [
    {
     "name": "stdout",
     "output_type": "stream",
     "text": [
      "20\n"
     ]
    },
    {
     "data": {
      "text/plain": [
       "[<selenium.webdriver.remote.webelement.WebElement (session=\"9f61ba79abf6b5b6ac0cdf060bfac380\", element=\"f71f77c3-6ec3-4ee3-b422-31a9de5d6a1f\")>,\n",
       " <selenium.webdriver.remote.webelement.WebElement (session=\"9f61ba79abf6b5b6ac0cdf060bfac380\", element=\"3756d57c-56d7-4100-b13b-a08c9cb0de6e\")>,\n",
       " <selenium.webdriver.remote.webelement.WebElement (session=\"9f61ba79abf6b5b6ac0cdf060bfac380\", element=\"a928baa0-51f3-4bc4-969b-2f5059b0d8e3\")>,\n",
       " <selenium.webdriver.remote.webelement.WebElement (session=\"9f61ba79abf6b5b6ac0cdf060bfac380\", element=\"dd258a7a-c5a2-49ef-b883-f4875deb86f5\")>,\n",
       " <selenium.webdriver.remote.webelement.WebElement (session=\"9f61ba79abf6b5b6ac0cdf060bfac380\", element=\"4c51c7b0-bff4-43ef-bb7a-b1009205cb94\")>]"
      ]
     },
     "execution_count": 20,
     "metadata": {},
     "output_type": "execute_result"
    }
   ],
   "source": [
    "main_listing_class = 'ui-organism-intersection__element.intersection-card-container'\n",
    "main_listings = browser.find_elements_by_class_name(main_listing_class)\n",
    "print(len(main_listings))\n",
    "main_listings[:5]"
   ]
  },
  {
   "cell_type": "markdown",
   "metadata": {},
   "source": [
    "House listing is located in `Listing Card`, the children of `main_listing` element above. We will access this to retrieve Navigation link to its detailed listing information.\n",
    "We are going to try to a house list as below codes:"
   ]
  },
  {
   "cell_type": "code",
   "execution_count": 23,
   "metadata": {},
   "outputs": [
    {
     "data": {
      "text/plain": [
       "'https://www.rumah123.com/properti/jakarta-timur/hos11319648/'"
      ]
     },
     "execution_count": 23,
     "metadata": {},
     "output_type": "execute_result"
    }
   ],
   "source": [
    "# example of using 1 listing\n",
    "listing_card_html = main_listings[2].get_attribute('outerHTML')\n",
    "soup_listing = BeautifulSoup(listing_card_html, \"html.parser\")\n",
    "\n",
    "# listing card properties\n",
    "nav_link = 'https://www.rumah123.com' + soup_listing.select('[title]')[1]['href']\n",
    "nav_link"
   ]
  },
  {
   "cell_type": "markdown",
   "metadata": {},
   "source": [
    "Using above lines, we can collect all of the `listing_id` and `nav_link` from the main entry list, which contain more than one listing. Note that each listing has been isolated as a list of `WebElement` object so that we won't retrieve overlapped records."
   ]
  },
  {
   "cell_type": "code",
   "execution_count": 24,
   "metadata": {},
   "outputs": [
    {
     "data": {
      "text/plain": [
       "['https://www.rumah123.com/properti/jakarta-barat/hos11320425/',\n",
       " 'https://www.rumah123.com/properti/jakarta-utara/hos11317048/',\n",
       " 'https://www.rumah123.com/properti/jakarta-timur/hos11319648/',\n",
       " 'https://www.rumah123.com/properti/jakarta-timur/hos11319428/',\n",
       " 'https://www.rumah123.com/properti/jakarta-barat/hos11319359/',\n",
       " 'https://www.rumah123.com/properti/jakarta-barat/hos10869556/',\n",
       " 'https://www.rumah123.com/properti/jakarta-barat/hos8145565/',\n",
       " 'https://www.rumah123.com/properti/jakarta-timur/hos11318124/',\n",
       " 'https://www.rumah123.com/properti/jakarta-selatan/hos11318784/',\n",
       " 'https://www.rumah123.com/properti/jakarta-selatan/hos11317620/',\n",
       " 'https://www.rumah123.com/properti/jakarta-pusat/hos11068296/',\n",
       " 'https://www.rumah123.com/properti/jakarta-barat/hos11317251/',\n",
       " 'https://www.rumah123.com/properti/jakarta-barat/hos11317213/',\n",
       " 'https://www.rumah123.com/properti/jakarta-barat/hos11318051/',\n",
       " 'https://www.rumah123.com/properti/jakarta-timur/hos10843509/',\n",
       " 'https://www.rumah123.com/properti/bogor/hos11307363/',\n",
       " 'https://www.rumah123.com/properti/jakarta-timur/hos7411825/',\n",
       " 'https://www.rumah123.com/properti/jakarta-timur/hos9575536/',\n",
       " 'https://www.rumah123.com/properti/jakarta-timur/hos7437650/',\n",
       " 'https://www.rumah123.com/properti/jakarta-utara/aps2712494/']"
      ]
     },
     "execution_count": 24,
     "metadata": {},
     "output_type": "execute_result"
    }
   ],
   "source": [
    "nav_links = []\n",
    "\n",
    "for listing in main_listings:\n",
    "    soup = BeautifulSoup(listing.get_attribute('innerHTML'))\n",
    "    nav_links.append(\n",
    "        'https://www.rumah123.com' + soup.select('[title]')[1]['href']\n",
    "    )\n",
    "\n",
    "nav_links"
   ]
  },
  {
   "cell_type": "markdown",
   "metadata": {},
   "source": [
    "Our scraping framework will loop-accessing all of the stored navigation link of house listing."
   ]
  },
  {
   "cell_type": "markdown",
   "metadata": {},
   "source": [
    "### 2.2. Accessing specific `House Listing`"
   ]
  },
  {
   "cell_type": "markdown",
   "metadata": {},
   "source": [
    "Having information of each listing navigation link, we now begin to scrap information of each listing by repetitively accessing each of the link using our `Chrome Webdriver`.\n",
    "\n",
    "We have to identify each particular object that we want to scrap."
   ]
  },
  {
   "cell_type": "markdown",
   "metadata": {},
   "source": [
    "#### **Listing Header**"
   ]
  },
  {
   "cell_type": "markdown",
   "metadata": {},
   "source": [
    " <center><img src=\"Scraped_Data\\pic\\4_Header.png\"/></center>\n",
    "\n",
    " *<center> Listing Header </center>*"
   ]
  },
  {
   "cell_type": "markdown",
   "metadata": {},
   "source": [
    "Information:\n",
    "\n",
    "- Title\n",
    "- Subtitle\n",
    "- Property Type"
   ]
  },
  {
   "cell_type": "code",
   "execution_count": 13,
   "metadata": {},
   "outputs": [],
   "source": [
    "URL = 'https://www.rumah.com/listing-properti/dijual-griya-seroja-pesanggrahan-oleh-pt-hawra-karya-20571009'\n",
    "browser = webdriver.Chrome('D:\\\\chromedriver.exe')\n",
    "browser.implicitly_wait(180)\n",
    "time.sleep(120)\n",
    "browser.get(URL)\n",
    "time.sleep(120)\n"
   ]
  },
  {
   "cell_type": "code",
   "execution_count": 106,
   "metadata": {},
   "outputs": [
    {
     "data": {
      "text/plain": [
       "{'title': 'Jelambar, DKI Jakarta, Jakarta Barat',\n",
       " 'subtitle': 'Rumah Jakarta Selatan, Nempel MRT Lebak Bulus dan Pondok Indah',\n",
       " 'property_type': 'Properti Baru: 2022, Rumah'}"
      ]
     },
     "execution_count": 106,
     "metadata": {},
     "output_type": "execute_result"
    }
   ],
   "source": [
    "header_element = browser.find_element_by_class_name('listing-detail-header-bar.container.clearfix')\n",
    "soup_header = BeautifulSoup(header_element.get_attribute('innerHTML'), 'html.parser')\n",
    "# scraping\n",
    "try: \n",
    "    title = soup_header.find('h1').text.strip()\n",
    "    subtitle = soup_header.find('h2').text.strip()\n",
    "    property_type = \\\n",
    "        ', '.join([prop.text.strip() \\\n",
    "            for prop in soup_header.select('.listing-property-type')[0].find_all('span')])\n",
    "except AttributeError:\n",
    "    pass\n",
    "listing_header = {\n",
    "    'title': title,\n",
    "    'subtitle': subtitle,\n",
    "    'property_type': property_type\n",
    "}\n",
    "listing_header"
   ]
  },
  {
   "cell_type": "markdown",
   "metadata": {},
   "source": [
    "#### **Listing Overview**"
   ]
  },
  {
   "cell_type": "markdown",
   "metadata": {},
   "source": [
    " <center><img src=\"Scraped_Data\\pic\\6_Listing_Overview.png\"/></center>\n",
    "\n",
    " *<center> Listing overview </center>*"
   ]
  },
  {
   "cell_type": "code",
   "execution_count": 104,
   "metadata": {},
   "outputs": [],
   "source": [
    "URL = 'https://www.rumah.com/listing-properti/dijual-jelambar-dki-jakarta-jakarta-barat-oleh-rudy-yang-20177418'\n",
    "browser.implicitly_wait(180)\n",
    "time.sleep(120)\n",
    "browser.get(URL)\n",
    "time.sleep(120)"
   ]
  },
  {
   "cell_type": "code",
   "execution_count": 155,
   "metadata": {},
   "outputs": [
    {
     "data": {
      "text/plain": [
       "{'currency': 'IDR',\n",
       " 'price': '2850000000',\n",
       " 'numberofrooms': '5',\n",
       " 'baths': '4',\n",
       " 'floorsize_value': '138',\n",
       " 'floorsize_unit': 'm2',\n",
       " 'price_per_area_value': '20,652174',\n",
       " 'price_per_area_unit': 'jt/m2',\n",
       " 'streetaddress': 'Jelambar, Jelambar, Jakarta Barat, DKI Jakarta'}"
      ]
     },
     "execution_count": 155,
     "metadata": {},
     "output_type": "execute_result"
    }
   ],
   "source": [
    "# NoSuchElementException Error if can't be found\n",
    "overview_element = browser.find_element_by_class_name('price-overview-widget.clearfix')\n",
    "overview_soup = BeautifulSoup(overview_element.get_attribute('outerHTML'), 'html.parser')\n",
    "# Scraping\n",
    "currency = overview_soup.select('[itemprop=\"priceCurrency\"]')[0]['content']\n",
    "price = overview_soup.select('[itemprop=\"price\"]')[0]['content']\n",
    "numberofrooms = overview_soup.select('[itemprop=\"numberOfRooms\"]')[0].text\n",
    "baths = overview_soup.select('.property-info-element.baths')[0].text.strip()\n",
    "floorsize_value = overview_soup.select('[itemprop=\"floorSize\"]')[0].select('[itemprop=\"value\"]')[0]['content']\n",
    "floorsize_unit = 'm2'\n",
    "price_per_area_value = overview_soup.select('.property-info-element.psf')[0].select('.price-value')[0].text\n",
    "price_per_area_unit = 'jt/m2'\n",
    "streetaddress = overview_soup.select('[itemprop=\"streetAddress\"]')[0].text\n",
    "\n",
    "dict(\n",
    "    currency = currency,\n",
    "    price = price,\n",
    "    numberofrooms = numberofrooms,\n",
    "    baths = baths,\n",
    "    floorsize_value = floorsize_value,\n",
    "    floorsize_unit = floorsize_unit,\n",
    "    price_per_area_value = price_per_area_value,\n",
    "    price_per_area_unit = price_per_area_unit,\n",
    "    streetaddress = streetaddress\n",
    ")\n"
   ]
  },
  {
   "cell_type": "markdown",
   "metadata": {},
   "source": [
    "#### **Listing Detail**"
   ]
  },
  {
   "cell_type": "markdown",
   "metadata": {},
   "source": [
    "`Listing Detail` is stored in a table format in class `row.table-row`. This class is marked with `flex`, which inform that this class is flexible so that each listing may have different object of details (i.e. some listing may report all of possible feature determined by website properties, while other may not report all of the possible feature).\n",
    "\n",
    " <center><img src=\"Scraped_Data\\pic\\5_Listing Details.png\"/></center>\n",
    "\n",
    " *<center> Listing details </center>*"
   ]
  },
  {
   "cell_type": "code",
   "execution_count": 105,
   "metadata": {},
   "outputs": [
    {
     "data": {
      "text/plain": [
       "{'Tipe Properti': 'Rumah Dijual',\n",
       " 'Luas bangunan': '138 m²',\n",
       " 'Pengembang': 'N/A',\n",
       " 'Luas tanah': '138 m²',\n",
       " 'per m²': 'Rp 20.652.174 per m²',\n",
       " 'Interior': 'N/A',\n",
       " 'Lantai': 'N/A',\n",
       " 'Sertifikat': 'SHM - Sertifikat Hak Milik',\n",
       " 'Tahun Dibuat': 'N/A',\n",
       " 'ID Listing': '20177418',\n",
       " 'Listrik': '3500 watt',\n",
       " 'Terdaftar pada': '3 bulan yang lalu'}"
      ]
     },
     "execution_count": 105,
     "metadata": {},
     "output_type": "execute_result"
    }
   ],
   "source": [
    "detail_element = browser.find_element_by_class_name('row.table-row')\n",
    "detail_soup = BeautifulSoup(detail_element.get_attribute('outerHTML'), 'html.parser')\n",
    "listing_details = {}\n",
    "for detail in detail_soup.select('.property-attr'):\n",
    "    listing_details[detail.find('h4').text] = detail.find('td', attrs={'itemprop': 'value'}).text\n",
    "listing_details"
   ]
  }
 ],
 "metadata": {
  "kernelspec": {
   "display_name": "Python 3.8.13 ('web_access')",
   "language": "python",
   "name": "python3"
  },
  "language_info": {
   "codemirror_mode": {
    "name": "ipython",
    "version": 3
   },
   "file_extension": ".py",
   "mimetype": "text/x-python",
   "name": "python",
   "nbconvert_exporter": "python",
   "pygments_lexer": "ipython3",
   "version": "3.8.13"
  },
  "orig_nbformat": 4,
  "vscode": {
   "interpreter": {
    "hash": "63de3f552b59bc0f4e942c3b929aad24c5a3dab61e77579e2f82111e07eb88c6"
   }
  }
 },
 "nbformat": 4,
 "nbformat_minor": 2
}
