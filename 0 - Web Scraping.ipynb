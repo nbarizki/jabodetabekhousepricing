{
 "cells": [
  {
   "cell_type": "markdown",
   "metadata": {},
   "source": [
    "# Web Scraping"
   ]
  },
  {
   "cell_type": "markdown",
   "metadata": {},
   "source": [
    "## 1. Introduction"
   ]
  },
  {
   "cell_type": "markdown",
   "metadata": {},
   "source": [
    "## 2. Requirements"
   ]
  },
  {
   "cell_type": "markdown",
   "metadata": {},
   "source": [
    "In order to access website using `Chrome Webdriver`, one must verify that:\n",
    "\n",
    "1. `Chrome` (denotes the *fully installed version of Chrome Browser*) must be installed in the system. Identify the **installed version** of *Chrome* first.\n",
    "2. `Chrome Webdriver` must be provided, which its **version** shall match the **installed version** of `Chrome`. Further explanation on this can be found in https://chromedriver.chromium.org/downloads/version-selection. Download the matched version of `Chrome Webdriver`, the file name will be `chromedriver.exe`.\n",
    "3. Make sure that `Chrome Webdriver` can be detected while utilizing `Selenium` from python. I choose to add the `chromedriver.exe` executable file path to ChromeDriver when instantiating `webdriver.Chrome`.\n",
    "\n",
    " <center><img src=\"Scraped_Data\\pic\\1_chromedriver_version.png\"/></center>\n",
    "\n",
    " *<center> Matching `Chrome` version with `Chrome Webdriver` version</center>*"
   ]
  },
  {
   "cell_type": "markdown",
   "metadata": {},
   "source": [
    "## 2. Web Scraping Flow"
   ]
  },
  {
   "cell_type": "code",
   "execution_count": 6,
   "metadata": {},
   "outputs": [],
   "source": [
    "from selenium import webdriver\n",
    "from bs4 import BeautifulSoup\n",
    "\n",
    "URL = 'https://www.rumah.com/properti-dijual?freetext=DKI+Jakarta&listing_type=sale&property_type=B&property_type_code[]=BUNG&market=residential&newProject=all&search=true'\n",
    "browser = webdriver.Chrome('D:\\\\chromedriver.exe')\n",
    "browser.get(URL)\n"
   ]
  },
  {
   "cell_type": "markdown",
   "metadata": {},
   "source": [
    "### 2.1. Accessing `main entry list`"
   ]
  },
  {
   "cell_type": "markdown",
   "metadata": {},
   "source": [
    "All of the house listings in main page is stored in `listing-container` as below snapshot. We are going to retrieve all of the listings in a single page by accessing this `XPath`.\n",
    "\n",
    "\n",
    " <center><img src=\"Scraped_Data\\pic\\2_Main_content.png\"/></center>\n",
    "\n",
    " <center><img src=\"Scraped_Data\\pic\\3_Listing_card.png\"/></center>\n",
    "\n",
    " *<center> Webpage structure of house listing </center>*"
   ]
  },
  {
   "cell_type": "code",
   "execution_count": 126,
   "metadata": {},
   "outputs": [
    {
     "data": {
      "text/plain": [
       "[<selenium.webdriver.remote.webelement.WebElement (session=\"227c197822a755d27c2026e279c1c7e9\", element=\"2edfb874-bb33-41ed-883e-e39caebdba92\")>,\n",
       " <selenium.webdriver.remote.webelement.WebElement (session=\"227c197822a755d27c2026e279c1c7e9\", element=\"b9ed1a1e-340b-4be5-8865-d0eeec1aa4fe\")>,\n",
       " <selenium.webdriver.remote.webelement.WebElement (session=\"227c197822a755d27c2026e279c1c7e9\", element=\"93423941-71de-4cfa-9718-001db60c1f55\")>,\n",
       " <selenium.webdriver.remote.webelement.WebElement (session=\"227c197822a755d27c2026e279c1c7e9\", element=\"7b03caab-f063-403d-a5ff-0f9741b0f92d\")>,\n",
       " <selenium.webdriver.remote.webelement.WebElement (session=\"227c197822a755d27c2026e279c1c7e9\", element=\"d559eeca-e305-4b4e-b3c9-afc591803144\")>]"
      ]
     },
     "execution_count": 126,
     "metadata": {},
     "output_type": "execute_result"
    }
   ],
   "source": [
    "main_listing_xpath = '//*[@id=\"listings-container\"]/div[*]'\n",
    "main_listings = browser.find_elements_by_xpath(main_listing_xpath)\n",
    "\n",
    "main_listings[:5]"
   ]
  },
  {
   "cell_type": "markdown",
   "metadata": {},
   "source": [
    "House listing is located in `Listing Card`, the children of `main_listing` element above. We will access this to retrieve several information of listing:\n",
    "\n",
    "1. Listing id\n",
    "2. Navigation link to its detailed listing information\n",
    "\n",
    "We are going to try to a house list as below codes:"
   ]
  },
  {
   "cell_type": "code",
   "execution_count": 127,
   "metadata": {},
   "outputs": [],
   "source": [
    "# example of using 1 listing\n",
    "listing_card_html = main_listings[0].get_attribute('outerHTML')\n",
    "soup = BeautifulSoup(listing_card_html, \"html.parser\")\n",
    "\n",
    "# listing card properties\n",
    "listing_id = soup.select('a[data-listing-id]')[0]['data-listing-id'] # use 'a[...]' to look for attribute\n",
    "nav_link = soup.select('.nav-link')[0]['href'] # use '.<class value>' to look for class value\n"
   ]
  },
  {
   "cell_type": "markdown",
   "metadata": {},
   "source": [
    "Now we can collect all of the `listing_id` and `nav_link` from the main entry list, which contain more than one listing. Note that each listing has been isolated as a list of `WebElement` object so that we won't retrieve overlapped records."
   ]
  },
  {
   "cell_type": "code",
   "execution_count": 132,
   "metadata": {},
   "outputs": [
    {
     "data": {
      "text/plain": [
       "{'20571009': 'https://www.rumah.com/listing-properti/dijual-griya-seroja-pesanggrahan-oleh-pt-hawra-karya-20571009#1225',\n",
       " '20586913': 'https://www.rumah.com/listing-properti/dijual-asya-oleh-pt-asya-mandira-land-20586913#1232',\n",
       " '18911127': 'https://www.rumah.com/listing-properti/dijual-jual-rumah-di-jagakarsa-jakarta-selatan-siap-huni-oleh-abdul-gofar-18911127',\n",
       " '20499239': 'https://www.rumah.com/listing-properti/dijual-dijual-rumah-lama-di-mendawai-kebayoran-baru-oleh-indrabrata-20499239',\n",
       " '19988140': 'https://www.rumah.com/listing-properti/dijual-cluster-malibu-vilage-oleh-richard-allan-19988140',\n",
       " '19678751': 'https://www.rumah.com/listing-properti/dijual-rawamangun-jakarta-timur-oleh-neni-supriati-19678751',\n",
       " '20519302': 'https://www.rumah.com/listing-properti/dijual-cluster-2lt-cipinang-kebembem-modern-mewah-oleh-rudi-hartono-20519302',\n",
       " '20596316': 'https://www.rumah.com/listing-properti/dijual-cluster-pisangan-baru-oleh-hermansyah-20596316',\n",
       " '19780767': 'https://www.rumah.com/listing-properti/dijual-bungur-dki-jakarta-oleh-susy-19780767',\n",
       " '20335562': 'https://www.rumah.com/listing-properti/dijual-menteng-dki-jakarta-oleh-anita-sihombing-20335562',\n",
       " '20064479': 'https://www.rumah.com/listing-properti/dijual-kavling-dki-jakarta-oleh-anie-tan-20064479',\n",
       " '19548801': 'https://www.rumah.com/listing-properti/dijual-rawamangun-dki-jakarta-oleh-taufan-19548801',\n",
       " '20547207': 'https://www.rumah.com/listing-properti/dijual-pondok-indah-dki-jakarta-oleh-toyo-20547207',\n",
       " '20687331': 'https://www.rumah.com/listing-properti/dijual-kelapa-gading-dki-jakarta-oleh-toyo-20687331',\n",
       " '20687807': 'https://www.rumah.com/listing-properti/dijual-kelapa-gading-dki-jakarta-oleh-poppy-dewanti-20687807',\n",
       " '20688901': 'https://www.rumah.com/listing-properti/dijual-kelapa-gading-dki-jakarta-oleh-ashraf-fakhry-20688901',\n",
       " '20687874': 'https://www.rumah.com/listing-properti/dijual-kelapa-gading-dki-jakarta-oleh-ario-trust-20687874',\n",
       " '20569637': 'https://www.rumah.com/listing-properti/dijual-mampang-prapatan-dki-jakarta-oleh-jokojeka-20569637',\n",
       " '20198731': 'https://www.rumah.com/listing-properti/dijual-dki-jakarta-jakarta-selatan-kalibata-oleh-brigita-20198731',\n",
       " '20487258': 'https://www.rumah.com/listing-properti/dijual-mampang-prapatan-dki-jakarta-oleh-toyo-20487258',\n",
       " '12903953': 'https://www.rumah.com/listing-properti/dijual-pertukangan-dki-jakarta-selatan-oleh-meily-12903953',\n",
       " '20183044': 'https://www.rumah.com/listing-properti/dijual-sunter-dki-jakarta-jakarta-utara-oleh-rudy-yang-20183044',\n",
       " '20177464': 'https://www.rumah.com/listing-properti/dijual-jelambar-dki-jakarta-jakarta-barat-oleh-rudy-yang-20177464',\n",
       " '20177418': 'https://www.rumah.com/listing-properti/dijual-jelambar-dki-jakarta-jakarta-barat-oleh-rudy-yang-20177418',\n",
       " '20599418': 'https://www.rumah.com/listing-properti/dijual-perumahan-baru-di-dki-jakarta-oleh-rozali-20599418',\n",
       " '20626317': 'https://www.rumah.com/listing-properti/dijual-rumah-salemba-dki-jakarta-jakarta-pusat-oleh-rudy-yang-20626317',\n",
       " '19992589': 'https://www.rumah.com/listing-properti/dijual-rumah-pademangan-dki-jakarta-jakarta-utara-oleh-rudy-yang-19992589',\n",
       " '19994449': 'https://www.rumah.com/listing-properti/dijual-rumah-benhil-dki-jakarta-jakarta-pusat-oleh-rudy-yang-19994449'}"
      ]
     },
     "execution_count": 132,
     "metadata": {},
     "output_type": "execute_result"
    }
   ],
   "source": [
    "listing_ids = []\n",
    "nav_links = []\n",
    "\n",
    "for listing in main_listings:\n",
    "    soup = BeautifulSoup(listing.get_attribute('outerHTML'))\n",
    "    listing_ids.append(\n",
    "        soup.select('a[data-listing-id]')[0]['data-listing-id']\n",
    "    )\n",
    "    nav_links.append(\n",
    "        soup.select('.nav-link')[0]['href']\n",
    "    )\n",
    "\n",
    "# check for {ids: nav_links}\n",
    "dict(zip(listing_ids, nav_links))"
   ]
  }
 ],
 "metadata": {
  "kernelspec": {
   "display_name": "Python 3.8.13 ('web_access')",
   "language": "python",
   "name": "python3"
  },
  "language_info": {
   "codemirror_mode": {
    "name": "ipython",
    "version": 3
   },
   "file_extension": ".py",
   "mimetype": "text/x-python",
   "name": "python",
   "nbconvert_exporter": "python",
   "pygments_lexer": "ipython3",
   "version": "3.8.13"
  },
  "orig_nbformat": 4,
  "vscode": {
   "interpreter": {
    "hash": "63de3f552b59bc0f4e942c3b929aad24c5a3dab61e77579e2f82111e07eb88c6"
   }
  }
 },
 "nbformat": 4,
 "nbformat_minor": 2
}
