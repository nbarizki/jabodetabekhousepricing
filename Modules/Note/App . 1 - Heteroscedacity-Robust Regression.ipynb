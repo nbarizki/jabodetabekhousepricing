{
 "cells": [
  {
   "cell_type": "code",
   "execution_count": 1,
   "metadata": {},
   "outputs": [],
   "source": [
    "import numpy as np\n",
    "import pandas as pd\n",
    "from sklearn.linear_model import LinearRegression\n",
    "from statsmodels.api import OLS\n",
    "from statsmodels.tools import add_constant"
   ]
  },
  {
   "cell_type": "code",
   "execution_count": 218,
   "metadata": {},
   "outputs": [],
   "source": [
    "def regressHart(y, X, Z, **kwargs):\n",
    "    n = len(y)\n",
    "    if n != X.shape[0]:\n",
    "        raise ValueError('Size mismatch')\n",
    "    maxiterdef = 10000\n",
    "    toldef = 1e-08\n",
    "    test=0\n",
    "    options = dict(\n",
    "        intercept=True,\n",
    "        maxiter=maxiterdef,\n",
    "        type='art',\n",
    "        initialbeta=None, # shall be array of shape (n_features, ) for single target regression\n",
    "        initialgamma=None,\n",
    "        tol=toldef,\n",
    "        nocheck=False,\n",
    "        msgiter=0,\n",
    "        test=test\n",
    "    )\n",
    "    test = options['test']\n",
    "    reg = LinearRegression(fit_intercept=options['intercept'])\n",
    "    # number of predictors\n",
    "    if options['intercept']:\n",
    "        p = X.shape[1] + 1\n",
    "    else:\n",
    "        p = X.shape[1]\n",
    "    reg_results0 = reg.fit(X, y)\n",
    "    b0 = np.c_[reg_results0.intercept_, reg_results0.coef_] # b0 is array of shape (n_features, ) for single target regression\n",
    "    r = y - reg_results0.predict(X)\n",
    "    oldbeta = b0\n",
    "    sigma2 = r.T @ r / (n)\n",
    "    # loglikelihood of residual\n",
    "    logL_R = n * (1 + np.log(sigma2))\n",
    "    #  Initialization of gamma\n",
    "    #  Z = n-by-r matrix which contains the explanatory variables for\n",
    "    #  heteroskedasticity\n",
    "    Z_ = Z.copy\n",
    "    # if options['intercept']:\n",
    "    #     Z_ = add_constant(Z_)\n",
    "    response_gamma0 = n * np.square(r) / np.sum(np.square(r)) - 1\n",
    "    reg_gamma = reg.fit(Z, response_gamma0)\n",
    "    gamma0 = np.c_[reg_gamma.intercept_, reg_gamma.coef_]\n",
    "    # gamma\n",
    "    oldgamma = gamma0\n",
    "    # tolerance\n",
    "    tol = options['tol']\n",
    "    cont = 1\n",
    "    iter = 0\n",
    "    maxiter = options['maxiter']\n",
    "    delt = 1\n",
    "    th = 8\n",
    "    dold = np.c_[oldbeta, oldgamma]\n",
    "    print(f'{dold}')\n",
    "    while (cont == 1) & (iter < maxiter):\n",
    "        iter = iter + 1\n",
    "        if options['intercept']:\n",
    "            Zoldgamma = (np.c_[np.repeat(1, n), Z] @ oldgamma.T).flatten()\n",
    "        Zoldgamma[Zoldgamma < -th] = -th\n",
    "        Zoldgamma[Zoldgamma > th] = th\n",
    "        expZgamma = np.exp(Zoldgamma)\n",
    "        omegahat = 1 + expZgamma\n",
    "        sqrtweight = np.sqrt(omegahat)\n",
    "        reg_new = reg.fit(X, y, sample_weight=omegahat)\n",
    "        y_new = reg_new.predict(X)\n",
    "        newbeta = np.c_[reg_new.intercept_, reg_new.coef_]\n",
    "        newres2 = np.square(sqrtweight * (y - y_new))\n",
    "        newsigma2 = np.sum(newres2) / (n)\n",
    "        Qweights = expZgamma / (1 + expZgamma)\n",
    "        Zq = Z * Qweights.reshape(-1, 1)\n",
    "        newres2ori = y - y_new\n",
    "        yq = newres2ori / (newsigma2 * (1 + expZgamma))\n",
    "        reg_q = reg.fit(Zq, yq)\n",
    "        gamma_q = np.c_[reg_q.intercept_, reg_q.coef_]\n",
    "        newgamma = oldgamma + gamma_q * delt\n",
    "        dnew = np.c_[newbeta, newgamma]\n",
    "        print(f'{dnew}')\n",
    "        if (np.sum(np.square(dnew - dold)) / np.sum(np.square(dold))) > tol:\n",
    "            cont = 1\n",
    "            oldgamma = newgamma\n",
    "            dold=dnew\n",
    "        else:\n",
    "            cont = 0\n",
    "    return y_new"
   ]
  },
  {
   "cell_type": "code",
   "execution_count": 249,
   "metadata": {},
   "outputs": [],
   "source": [
    "def regressHart(y, X, Z, **kwargs):\n",
    "    n = len(y)\n",
    "    if n != X.shape[0]:\n",
    "        raise ValueError('Size mismatch')\n",
    "    maxiterdef = 10000\n",
    "    toldef = 1e-12\n",
    "    test=0\n",
    "    options = dict(\n",
    "        intercept=True,\n",
    "        maxiter=maxiterdef,\n",
    "        type='art',\n",
    "        initialbeta=None, # shall be array of shape (n_features, ) for single target regression\n",
    "        initialgamma=None,\n",
    "        tol=toldef,\n",
    "        nocheck=False,\n",
    "        msgiter=0,\n",
    "        test=test\n",
    "    )\n",
    "    test = options['test']\n",
    "    reg = LinearRegression(fit_intercept=options['intercept'])\n",
    "    # number of predictors\n",
    "    if options['intercept']:\n",
    "        p = X.shape[1] + 1\n",
    "    else:\n",
    "        p = X.shape[1]\n",
    "    reg_results0 = reg.fit(X, y)\n",
    "    b0 = np.c_[reg_results0.intercept_, reg_results0.coef_] # b0 is array of shape (n_features, ) for single target regression\n",
    "    r = y - reg_results0.predict(X)\n",
    "    oldbeta = b0\n",
    "    sigma2 = r.T @ r / (n)\n",
    "    # loglikelihood of residual\n",
    "    logL_R = n * (1 + np.log(sigma2))\n",
    "    #  Initialization of gamma\n",
    "    #  Z = n-by-r matrix which contains the explanatory variables for\n",
    "    #  heteroskedasticity\n",
    "    Z_ = Z.copy\n",
    "    # if options['intercept']:\n",
    "    #     Z_ = add_constant(Z_)\n",
    "    response_gamma0 = n * np.square(r) / np.sum(np.square(r)) - 1\n",
    "    reg_gamma = reg.fit(Z, response_gamma0)\n",
    "    gamma0 = np.c_[reg_gamma.intercept_, reg_gamma.coef_]\n",
    "    # gamma\n",
    "    oldgamma = gamma0\n",
    "    # tolerance\n",
    "    tol = options['tol']\n",
    "    cont = 1\n",
    "    iter = 0\n",
    "    maxiter = options['maxiter']\n",
    "    delt = 0.5\n",
    "    th = 8\n",
    "    dold = np.c_[oldbeta, oldgamma]\n",
    "    print(f'{dold}')\n",
    "    while (cont == 1) & (iter < maxiter):\n",
    "        iter = iter + 1\n",
    "        if options['intercept']:\n",
    "            Zoldgamma = (np.c_[np.repeat(1, n), Z] @ oldgamma.T).flatten()\n",
    "        # Zoldgamma[Zoldgamma < -th] = -th\n",
    "        # Zoldgamma[Zoldgamma > th] = th\n",
    "        expZgamma = np.exp(Zoldgamma)\n",
    "        omegahat = 1 + expZgamma\n",
    "        weight = np.power(omegahat, -1)\n",
    "        sqrtweight = np.sqrt(weight)\n",
    "        reg_new = reg.fit(X, y, sample_weight=weight)\n",
    "        y_new = reg_new.predict(X)\n",
    "        newbeta = np.c_[reg_new.intercept_, reg_new.coef_]\n",
    "        newres2 = np.square(sqrtweight * (y - y_new))\n",
    "        newsigma2 = np.sum(newres2) / (n)\n",
    "        Qweights = expZgamma / (1 + expZgamma)\n",
    "        Zq = Z * Qweights.reshape(-1, 1)\n",
    "        newres2ori = y - y_new\n",
    "        yq = newres2ori / (newsigma2 * (1 + expZgamma))\n",
    "        reg_q = reg.fit(Zq, yq)\n",
    "        gamma_q = np.c_[reg_q.intercept_, reg_q.coef_]\n",
    "        newgamma = oldgamma + gamma_q * delt\n",
    "        dnew = np.c_[newbeta, newgamma]\n",
    "        print(f'{dnew}')\n",
    "        if (np.sum(np.square(dnew - dold)) / np.sum(np.square(dold))) > tol:\n",
    "            cont = 1\n",
    "            oldgamma = newgamma\n",
    "            dold=dnew\n",
    "        else:\n",
    "            cont = 0\n",
    "    return y_new"
   ]
  },
  {
   "cell_type": "code",
   "execution_count": 219,
   "metadata": {},
   "outputs": [
    {
     "name": "stdout",
     "output_type": "stream",
     "text": [
      "[[ 1.01181221e+03  9.38809730e+00 -1.34507116e+00  1.28546426e-03]]\n",
      "[[ 1.50130319e+03  8.96543387e+00 -1.34507716e+00  1.28547038e-03]]\n",
      "[[ 1.50130500e+03  8.96543252e+00 -1.34508317e+00  1.28547650e-03]]\n"
     ]
    },
    {
     "data": {
      "text/plain": [
       "array([ 7361.55996717, 12589.75194052, 12331.54748397, ...,\n",
       "        6915.17108206, 10989.42223591, 11649.99530389])"
      ]
     },
     "execution_count": 219,
     "metadata": {},
     "output_type": "execute_result"
    }
   ],
   "source": [
    "regressHart(y, X, X)"
   ]
  },
  {
   "cell_type": "code",
   "execution_count": 189,
   "metadata": {},
   "outputs": [
    {
     "data": {
      "text/plain": [
       "array([1308.3 , 2474.6 , 2417.  , ..., 1208.72, 2117.6 , 2264.96])"
      ]
     },
     "execution_count": 189,
     "metadata": {},
     "output_type": "execute_result"
    }
   ],
   "source": [
    "np.c_[np.repeat(1, 1100), X] @ np.array([1, 2])"
   ]
  },
  {
   "cell_type": "code",
   "execution_count": 168,
   "metadata": {},
   "outputs": [],
   "source": [
    "trade_df = pd.read_csv('TradeH.csv', sep='\\t', header=None, names=['quantity', 'value'])\n",
    "\n",
    "X = trade_df['quantity'].values.reshape(-1, 1)\n",
    "y = trade_df['value'].values"
   ]
  },
  {
   "cell_type": "code",
   "execution_count": 164,
   "metadata": {},
   "outputs": [
    {
     "name": "stdout",
     "output_type": "stream",
     "text": [
      "iter no: 1\n",
      "old d: [[ 1.50130319e+03  8.96543387e+00 -1.34507715e+00  1.28547037e-03]]\n",
      "iter no: 2\n",
      "old d: [[ 1.01181339e+03  9.38809617e+00 -1.34507715e+00  1.28547037e-03]]\n"
     ]
    },
    {
     "data": {
      "text/plain": [
       "numpy.ndarray"
      ]
     },
     "execution_count": 164,
     "metadata": {},
     "output_type": "execute_result"
    }
   ],
   "source": [
    "type(regressHart(y, X, X))"
   ]
  },
  {
   "cell_type": "code",
   "execution_count": 177,
   "metadata": {},
   "outputs": [
    {
     "data": {
      "text/plain": [
       "array([7148.34200948])"
      ]
     },
     "execution_count": 177,
     "metadata": {},
     "output_type": "execute_result"
    }
   ],
   "source": [
    "regressHart(y, X, X)[np.argsort(X.flatten)]"
   ]
  },
  {
   "cell_type": "code",
   "execution_count": 172,
   "metadata": {},
   "outputs": [
    {
     "name": "stdout",
     "output_type": "stream",
     "text": [
      "iter no: 1\n",
      "old d: [[ 1.50130319e+03  8.96543387e+00 -1.34507715e+00  1.28547037e-03]]\n",
      "iter no: 2\n",
      "old d: [[ 1.01181339e+03  9.38809617e+00 -1.34507715e+00  1.28547037e-03]]\n"
     ]
    },
    {
     "data": {
      "text/plain": [
       "array([ 7148.34200948, 12623.01094716, 12352.63374506, ...,\n",
       "        6680.90864516, 10947.23557997, 11638.95058868])"
      ]
     },
     "execution_count": 172,
     "metadata": {},
     "output_type": "execute_result"
    }
   ],
   "source": [
    "a = regressHart(y, X, X)\n",
    "a"
   ]
  },
  {
   "cell_type": "code",
   "execution_count": 180,
   "metadata": {},
   "outputs": [
    {
     "data": {
      "text/plain": [
       "array([ 653.65, 1236.8 , 1208.  , ...,  603.86, 1058.3 , 1131.98])"
      ]
     },
     "execution_count": 180,
     "metadata": {},
     "output_type": "execute_result"
    }
   ],
   "source": [
    "X.flatten()"
   ]
  },
  {
   "cell_type": "code",
   "execution_count": 238,
   "metadata": {},
   "outputs": [
    {
     "name": "stdout",
     "output_type": "stream",
     "text": [
      "[[ 1.01181221e+03  9.38809730e+00 -1.34507116e+00  1.28546426e-03]]\n",
      "[[ 8.36476447e+02  9.58126583e+00 -1.34507014e+00  1.28546261e-03]]\n",
      "[[ 8.36476546e+02  9.58126570e+00 -1.34506912e+00  1.28546096e-03]]\n"
     ]
    },
    {
     "data": {
      "text/plain": [
       "[<matplotlib.lines.Line2D at 0x26eb3aa05b0>]"
      ]
     },
     "execution_count": 238,
     "metadata": {},
     "output_type": "execute_result"
    },
    {
     "data": {
      "image/png": "[encoded data removed]",
      "text/plain": [
       "<Figure size 864x432 with 1 Axes>"
      ]
     },
     "metadata": {
      "needs_background": "light"
     },
     "output_type": "display_data"
    }
   ],
   "source": [
    "import matplotlib.pyplot as plt\n",
    "\n",
    "reg = LinearRegression()\n",
    "reg_result = reg.fit(X, y)\n",
    "\n",
    "\n",
    "fig, ax = plt.subplots(figsize=(12, 6))\n",
    "\n",
    "ax.plot(np.sort(X.flatten()), regressHart(y, X, X)[np.argsort(X.flatten())], color='red')"
   ]
  },
  {
   "cell_type": "code",
   "execution_count": 241,
   "metadata": {},
   "outputs": [
    {
     "name": "stdout",
     "output_type": "stream",
     "text": [
      "[[ 1.01181221e+03  9.38809730e+00 -1.34507116e+00  1.28546426e-03]]\n",
      "[[ 8.36476447e+02  9.58126583e+00 -1.34507014e+00  1.28546261e-03]]\n",
      "[[ 8.36476546e+02  9.58126570e+00 -1.34506912e+00  1.28546096e-03]]\n"
     ]
    },
    {
     "data": {
      "text/plain": [
       "[<matplotlib.lines.Line2D at 0x26eb3b68af0>]"
      ]
     },
     "execution_count": 241,
     "metadata": {},
     "output_type": "execute_result"
    },
    {
     "data": {
      "image/png": "[encoded data removed]",
      "text/plain": [
       "<Figure size 864x864 with 1 Axes>"
      ]
     },
     "metadata": {
      "needs_background": "light"
     },
     "output_type": "display_data"
    }
   ],
   "source": [
    "import matplotlib.pyplot as plt\n",
    "\n",
    "reg = LinearRegression()\n",
    "reg_result = reg.fit(X, y)\n",
    "\n",
    "\n",
    "fig, ax = plt.subplots(figsize=(12, 12))\n",
    "\n",
    "ax.scatter(x=X, y=y)\n",
    "ax.plot(np.sort(X.flatten()), regressHart(y, X, X)[np.argsort(X.flatten())], color='red')\n",
    "ax.plot(np.sort(X.flatten()), reg_result.predict(X)[np.argsort(X.flatten())], color='black')"
   ]
  },
  {
   "cell_type": "code",
   "execution_count": 244,
   "metadata": {},
   "outputs": [
    {
     "data": {
      "text/plain": [
       "array([[105.],\n",
       "       [ 80.],\n",
       "       [ 95.],\n",
       "       ...,\n",
       "       [ 39.],\n",
       "       [ 78.],\n",
       "       [ 89.]])"
      ]
     },
     "execution_count": 244,
     "metadata": {},
     "output_type": "execute_result"
    }
   ],
   "source": [
    "X_df = pd.read_csv('X_train.csv')\n",
    "y_df = pd.read_csv('y_train.csv')\n",
    "\n",
    "\n",
    "X = X_df['building_size_m2'].values.reshape(-1, 1)\n",
    "y = y_df['price_in_rp'].values"
   ]
  },
  {
   "cell_type": "code",
   "execution_count": 251,
   "metadata": {},
   "outputs": [
    {
     "data": {
      "text/plain": [
       "array([0.85712237, 0.9120942 , 0.88192076, ..., 0.96223985, 0.91554559,\n",
       "       0.89494129])"
      ]
     },
     "execution_count": 251,
     "metadata": {},
     "output_type": "execute_result"
    }
   ],
   "source": [
    "weight"
   ]
  },
  {
   "cell_type": "code",
   "execution_count": 255,
   "metadata": {},
   "outputs": [
    {
     "name": "stdout",
     "output_type": "stream",
     "text": [
      "[[-9.83918922e+08  2.66723628e+07 -4.09271062e+00  2.19154135e-02]]\n",
      "[[-2.36062824e+08  1.83181981e+07 -4.09271062e+00  2.19154135e-02]]\n",
      "[[-2.36062824e+08  1.83181981e+07 -4.09271062e+00  2.19154135e-02]]\n"
     ]
    },
    {
     "data": {
      "text/plain": [
       "[<matplotlib.lines.Line2D at 0x26eb482ab80>]"
      ]
     },
     "execution_count": 255,
     "metadata": {},
     "output_type": "execute_result"
    },
    {
     "data": {
      "image/png": "[encoded data removed]",
      "text/plain": [
       "<Figure size 864x864 with 1 Axes>"
      ]
     },
     "metadata": {
      "needs_background": "light"
     },
     "output_type": "display_data"
    }
   ],
   "source": [
    "import matplotlib.pyplot as plt\n",
    "\n",
    "X_df = pd.read_csv('X_train.csv')\n",
    "y_df = pd.read_csv('y_train.csv')\n",
    "\n",
    "\n",
    "X = X_df['building_size_m2'].values.reshape(-1, 1)\n",
    "y = y_df['price_in_rp'].values\n",
    "\n",
    "reg = LinearRegression()\n",
    "reg_result = reg.fit(X, y)\n",
    "\n",
    "\n",
    "fig, ax = plt.subplots(figsize=(12, 12))\n",
    "weighted_y = weight * 2.5e11\n",
    "ax.scatter(x=X, y=y)\n",
    "ax.plot(np.sort(X.flatten()), regressHart(y, X, X)[np.argsort(X.flatten())], color='red')\n",
    "ax.plot(np.sort(X.flatten()), reg_result.predict(X)[np.argsort(X.flatten())], color='black')\n",
    "ax.plot(np.sort(X.flatten()), weighted_y[np.argsort(X.flatten())], color='yellow')"
   ]
  },
  {
   "cell_type": "code",
   "execution_count": 274,
   "metadata": {},
   "outputs": [
    {
     "data": {
      "text/plain": [
       "125000000.0"
      ]
     },
     "execution_count": 274,
     "metadata": {},
     "output_type": "execute_result"
    }
   ],
   "source": [
    "min(y)"
   ]
  },
  {
   "cell_type": "code",
   "execution_count": 246,
   "metadata": {},
   "outputs": [],
   "source": [
    "def regressHart(y, X, Z, **kwargs):\n",
    "    n = len(y)\n",
    "    if n != X.shape[0]:\n",
    "        raise ValueError('Size mismatch')\n",
    "    maxiterdef = 10000\n",
    "    toldef = 1e-12\n",
    "    test=0\n",
    "    options = dict(\n",
    "        intercept=True,\n",
    "        maxiter=maxiterdef,\n",
    "        type='art',\n",
    "        initialbeta=None, # shall be array of shape (n_features, ) for single target regression\n",
    "        initialgamma=None,\n",
    "        tol=toldef,\n",
    "        nocheck=False,\n",
    "        msgiter=0,\n",
    "        test=test\n",
    "    )\n",
    "    test = options['test']\n",
    "    reg = LinearRegression(fit_intercept=options['intercept'])\n",
    "    # number of predictors\n",
    "    if options['intercept']:\n",
    "        p = X.shape[1] + 1\n",
    "    else:\n",
    "        p = X.shape[1]\n",
    "    reg_results0 = reg.fit(X, y)\n",
    "    b0 = np.c_[reg_results0.intercept_, reg_results0.coef_] # b0 is array of shape (n_features, ) for single target regression\n",
    "    r = y - reg_results0.predict(X)\n",
    "    oldbeta = b0\n",
    "    sigma2 = r.T @ r / (n)\n",
    "    # loglikelihood of residual\n",
    "    logL_R = n * (1 + np.log(sigma2))\n",
    "    #  Initialization of gamma\n",
    "    #  Z = n-by-r matrix which contains the explanatory variables for\n",
    "    #  heteroskedasticity\n",
    "    Z_ = Z.copy\n",
    "    # if options['intercept']:\n",
    "    #     Z_ = add_constant(Z_)\n",
    "    response_gamma0 = n * np.square(r) / np.sum(np.square(r)) - 1\n",
    "    reg_gamma = reg.fit(Z, response_gamma0)\n",
    "    gamma0 = np.c_[reg_gamma.intercept_, reg_gamma.coef_]\n",
    "    # gamma\n",
    "    oldgamma = gamma0\n",
    "    # tolerance\n",
    "    tol = options['tol']\n",
    "    cont = 1\n",
    "    iter = 0\n",
    "    maxiter = options['maxiter']\n",
    "    delt = 0.5\n",
    "    th = 8\n",
    "    dold = np.c_[oldbeta, oldgamma]\n",
    "    print(f'{dold}')\n",
    "    while (cont == 1) & (iter < maxiter):\n",
    "        iter = iter + 1\n",
    "        if options['intercept']:\n",
    "            Zoldgamma = (np.c_[np.repeat(1, n), Z] @ oldgamma.T).flatten()\n",
    "        # Zoldgamma[Zoldgamma < -th] = -th\n",
    "        # Zoldgamma[Zoldgamma > th] = th\n",
    "        expZgamma = np.exp(Zoldgamma)\n",
    "        omegahat = 1 + expZgamma\n",
    "        weight = np.power(omegahat, -1)\n",
    "        sqrtweight = np.sqrt(weight)\n",
    "        reg_new = reg.fit(X, y, sample_weight=weight)\n",
    "        y_new = reg_new.predict(X)\n",
    "        newbeta = np.c_[reg_new.intercept_, reg_new.coef_]\n",
    "        newres2 = np.square(sqrtweight * (y - y_new))\n",
    "        newsigma2 = np.sum(newres2) / (n)\n",
    "        Qweights = expZgamma / (1 + expZgamma)\n",
    "        Zq = Z * Qweights.reshape(-1, 1)\n",
    "        newres2ori = y - y_new\n",
    "        yq = newres2ori / (newsigma2 * (1 + expZgamma))\n",
    "        reg_q = reg.fit(Zq, yq)\n",
    "        gamma_q = np.c_[reg_q.intercept_, reg_q.coef_]\n",
    "        newgamma = oldgamma + gamma_q * delt\n",
    "        dnew = np.c_[newbeta, newgamma]\n",
    "        print(f'{dnew}')\n",
    "        if (np.sum(np.square(dnew - dold)) / np.sum(np.square(dold))) > tol:\n",
    "            cont = 1\n",
    "            oldgamma = newgamma\n",
    "            dold=dnew\n",
    "        else:\n",
    "            cont = 0\n",
    "    return weight"
   ]
  },
  {
   "cell_type": "code",
   "execution_count": 248,
   "metadata": {},
   "outputs": [
    {
     "name": "stdout",
     "output_type": "stream",
     "text": [
      "[[-9.83918922e+08  2.66723628e+07 -4.09271062e+00  2.19154135e-02]]\n",
      "[[-2.36062824e+08  1.83181981e+07 -4.09271062e+00  2.19154135e-02]]\n",
      "[[-2.36062824e+08  1.83181981e+07 -4.09271062e+00  2.19154135e-02]]\n",
      "[[-9.83918922e+08  2.66723628e+07 -4.09271062e+00  2.19154135e-02]]\n",
      "[[-2.36062824e+08  1.83181981e+07 -4.09271062e+00  2.19154135e-02]]\n",
      "[[-2.36062824e+08  1.83181981e+07 -4.09271062e+00  2.19154135e-02]]\n"
     ]
    },
    {
     "data": {
      "text/plain": [
       "[<matplotlib.lines.Line2D at 0x26eb47c4640>]"
      ]
     },
     "execution_count": 248,
     "metadata": {},
     "output_type": "execute_result"
    },
    {
     "data": {
      "image/png": "[encoded data removed]",
      "text/plain": [
       "<Figure size 864x432 with 1 Axes>"
      ]
     },
     "metadata": {
      "needs_background": "light"
     },
     "output_type": "display_data"
    }
   ],
   "source": [
    "import matplotlib.pyplot as plt\n",
    "\n",
    "reg = LinearRegression()\n",
    "reg_result = reg.fit(X, y)\n",
    "\n",
    "\n",
    "fig, ax = plt.subplots(figsize=(12, 6))\n",
    "weight = regressHart(y, X, X)\n",
    "ax.plot(np.sort(X.flatten()), regressHart(y, X, X)[np.argsort(X.flatten())], color='red')"
   ]
  },
  {
   "cell_type": "code",
   "execution_count": 271,
   "metadata": {},
   "outputs": [],
   "source": [
    "def regressHart(y, X, Z, **kwargs):\n",
    "    n = len(y)\n",
    "    if n != X.shape[0]:\n",
    "        raise ValueError('Size mismatch')\n",
    "    maxiterdef = 10000\n",
    "    toldef = 1e-12\n",
    "    test=0\n",
    "    options = dict(\n",
    "        intercept=True,\n",
    "        maxiter=maxiterdef,\n",
    "        type='art',\n",
    "        initialbeta=None, # shall be array of shape (n_features, ) for single target regression\n",
    "        initialgamma=None,\n",
    "        tol=toldef,\n",
    "        nocheck=False,\n",
    "        msgiter=0,\n",
    "        test=test\n",
    "    )\n",
    "    test = options['test']\n",
    "    reg = LinearRegression(fit_intercept=options['intercept'])\n",
    "    # number of predictors\n",
    "    if options['intercept']:\n",
    "        p = X.shape[1] + 1\n",
    "    else:\n",
    "        p = X.shape[1]\n",
    "    reg_results0 = reg.fit(X, y)\n",
    "    b0 = np.c_[reg_results0.intercept_, reg_results0.coef_] # b0 is array of shape (n_features, ) for single target regression\n",
    "    r = y - reg_results0.predict(X)\n",
    "    oldbeta = b0\n",
    "    sigma2 = r.T @ r / (n)\n",
    "    # loglikelihood of residual\n",
    "    logL_R = n * (1 + np.log(sigma2))\n",
    "    #  Initialization of gamma\n",
    "    #  Z = n-by-r matrix which contains the explanatory variables for\n",
    "    #  heteroskedasticity\n",
    "    Z_ = Z.copy\n",
    "    # if options['intercept']:\n",
    "    #     Z_ = add_constant(Z_)\n",
    "    response_gamma0 = n * np.square(r) / np.sum(np.square(r)) - 1\n",
    "    reg_gamma = reg.fit(Z, response_gamma0)\n",
    "    gamma0 = np.c_[reg_gamma.intercept_, reg_gamma.coef_]\n",
    "    # gamma\n",
    "    oldgamma = gamma0\n",
    "    # tolerance\n",
    "    tol = options['tol']\n",
    "    cont = 1\n",
    "    iter = 0\n",
    "    maxiter = options['maxiter']\n",
    "    delt = 0.5\n",
    "    th = 8\n",
    "    dold = np.c_[oldbeta, oldgamma]\n",
    "    print(f'{dold}')\n",
    "    while (cont == 1) & (iter < maxiter):\n",
    "        iter = iter + 1\n",
    "        if options['intercept']:\n",
    "            Zoldgamma = (np.c_[np.repeat(1, n), Z] @ oldgamma.T).flatten()\n",
    "        # Zoldgamma[Zoldgamma < -th] = -th\n",
    "        # Zoldgamma[Zoldgamma > th] = th\n",
    "        expZgamma = np.exp(Zoldgamma)\n",
    "        omegahat = 1 + expZgamma\n",
    "        weight = np.power(omegahat, -1)\n",
    "        sqrtweight = np.sqrt(weight)\n",
    "        reg_new = reg.fit(X, y, sample_weight=weight)\n",
    "        y_new = reg_new.predict(X)\n",
    "        newbeta = np.c_[reg_new.intercept_, reg_new.coef_]\n",
    "        newres2 = np.square(sqrtweight * (y - y_new))\n",
    "        newsigma2 = np.sum(newres2) / (n)\n",
    "        Qweights = expZgamma / (1 + expZgamma)\n",
    "        Zq = Z * Qweights.reshape(-1, 1)\n",
    "        newres2ori = y - y_new\n",
    "        yq = newres2ori / (newsigma2 * (1 + expZgamma))\n",
    "        reg_q = reg.fit(Zq, yq)\n",
    "        gamma_q = np.c_[reg_q.intercept_, reg_q.coef_]\n",
    "        newgamma = oldgamma + gamma_q * delt\n",
    "        dnew = np.c_[newbeta, newgamma]\n",
    "        print(f'{dnew}')\n",
    "        if (np.sum(np.square(dnew - dold)) / np.sum(np.square(dold))) > tol:\n",
    "            cont = 1\n",
    "            oldgamma = newgamma\n",
    "            dold=dnew\n",
    "        else:\n",
    "            cont = 0\n",
    "    return reg_new.predict(np.array([500]).reshape(-1, 1))"
   ]
  },
  {
   "cell_type": "code",
   "execution_count": 273,
   "metadata": {},
   "outputs": [
    {
     "data": {
      "text/plain": [
       "array([1.98e+09, 9.50e+08, 1.05e+09, ..., 6.74e+08, 8.32e+08, 1.65e+09])"
      ]
     },
     "execution_count": 273,
     "metadata": {},
     "output_type": "execute_result"
    }
   ],
   "source": [
    "y"
   ]
  },
  {
   "cell_type": "code",
   "execution_count": 272,
   "metadata": {},
   "outputs": [
    {
     "name": "stdout",
     "output_type": "stream",
     "text": [
      "[[-9.83918922e+08  2.66723628e+07 -4.09271062e+00  2.19154135e-02]]\n",
      "[[-2.36062824e+08  1.83181981e+07 -4.09271062e+00  2.19154135e-02]]\n",
      "[[-2.36062824e+08  1.83181981e+07 -4.09271062e+00  2.19154135e-02]]\n"
     ]
    },
    {
     "data": {
      "text/plain": [
       "array([2.03585286e-12])"
      ]
     },
     "execution_count": 272,
     "metadata": {},
     "output_type": "execute_result"
    }
   ],
   "source": [
    "regressHart(y, X, X)"
   ]
  }
 ],
 "metadata": {
  "kernelspec": {
   "display_name": "Python 3.8.13 64-bit",
   "language": "python",
   "name": "python3"
  },
  "language_info": {
   "codemirror_mode": {
    "name": "ipython",
    "version": 3
   },
   "file_extension": ".py",
   "mimetype": "text/x-python",
   "name": "python",
   "nbconvert_exporter": "python",
   "pygments_lexer": "ipython3",
   "version": "3.8.13"
  },
  "orig_nbformat": 4,
  "vscode": {
   "interpreter": {
    "hash": "c2892b95998397e64822f38de2e41a1410cc5bda2d9d70e92f4ade4b6aa0470a"
   }
  }
 },
 "nbformat": 4,
 "nbformat_minor": 2
}
