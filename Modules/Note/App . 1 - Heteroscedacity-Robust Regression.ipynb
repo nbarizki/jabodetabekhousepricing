{
 "cells": [
  {
   "cell_type": "code",
   "execution_count": 10,
   "metadata": {},
   "outputs": [],
   "source": [
    "import numpy as np\n",
    "import pandas as pd\n",
    "from sklearn.linear_model import LinearRegression\n",
    "from statsmodels.api import OLS\n",
    "from statsmodels.tools import add_constant"
   ]
  },
  {
   "cell_type": "code",
   "execution_count": 45,
   "metadata": {},
   "outputs": [],
   "source": [
    "def regressHart(y, X, Z, **kwargs):\n",
    "    n = len(y)\n",
    "    if n != X.shape[0]:\n",
    "        raise ValueError('Size mismatch')\n",
    "    maxiterdef = 10000\n",
    "    toldef = 1e-08\n",
    "    test=0\n",
    "    options = dict(\n",
    "        intercept=True,\n",
    "        maxiter=maxiterdef,\n",
    "        type='art',\n",
    "        initialbeta=None, # shall be array of shape (n_features, ) for single target regression\n",
    "        initialgamma=None,\n",
    "        tol=toldef,\n",
    "        nocheck=False,\n",
    "        msgiter=0,\n",
    "        test=test\n",
    "    )\n",
    "    test = options['test']\n",
    "    reg = LinearRegression(fit_intercept=options['intercept'])\n",
    "    # number of predictors\n",
    "    if options['intercept']:\n",
    "        p = X.shape[1] + 1\n",
    "    else:\n",
    "        p = X.shape[1]\n",
    "    reg_results0 = reg.fit(X, y)\n",
    "    b0 = reg_results0.coef_ # b0 is array of shape (n_features, ) for single target regression\n",
    "    b0 = np.c_[reg_results0.intercept_, b0]\n",
    "    r = y - reg_results0.predict(X)\n",
    "    oldbeta = b0\n",
    "    sigma2 = r.T @ r / (n-p)\n",
    "    print(sigma2)\n",
    "    # loglikelihood of residual\n",
    "    logL_R = n * (1 + np.log(sigma2))\n",
    "    #  Initialization of gamma\n",
    "    #  Z = n-by-r matrix which contains the explanatory variables for\n",
    "    #  heteroskedasticity\n",
    "    Z_ = Z.copy\n",
    "    if options['intercept']:\n",
    "        Z_ = add_constant(Z_)\n",
    "    response_gamma0 = np.square(r)\n",
    "    reg_gamma = reg.fit(Z, response_gamma0)\n",
    "    gamma0 = reg_gamma.coef_\n",
    "    gamma0 = np.c_[reg_gamma.intercept_, gamma0]\n",
    "    oldgamma = gamma0\n",
    "    # tolerance\n",
    "    tol = options['tol']\n",
    "\n",
    "    \n",
    "\n"
   ]
  },
  {
   "cell_type": "code",
   "execution_count": 47,
   "metadata": {},
   "outputs": [
    {
     "data": {
      "text/plain": [
       "array([ 4,  9, 16], dtype=int32)"
      ]
     },
     "execution_count": 47,
     "metadata": {},
     "output_type": "execute_result"
    }
   ],
   "source": [
    "r = np.array([2, 3, 4])\n",
    "np.square(r)"
   ]
  },
  {
   "cell_type": "code",
   "execution_count": 20,
   "metadata": {},
   "outputs": [],
   "source": [
    "trade_df = pd.read_csv('TradeH.csv', sep='\\t', header=None, names=['quantity', 'value'])\n",
    "\n",
    "X = trade_df['quantity'].values.reshape(-1, 1)\n",
    "y = trade_df['value'].values"
   ]
  },
  {
   "cell_type": "code",
   "execution_count": 37,
   "metadata": {},
   "outputs": [
    {
     "data": {
      "text/plain": [
       "6159773.924592378"
      ]
     },
     "execution_count": 37,
     "metadata": {},
     "output_type": "execute_result"
    }
   ],
   "source": [
    "lm = OLS(y, add_constant(X))\n",
    "results = lm.fit()\n",
    "sigma2 = results.get_prediction(add_constant(X)).var_resid\n",
    "sigma2"
   ]
  },
  {
   "cell_type": "code",
   "execution_count": 36,
   "metadata": {},
   "outputs": [
    {
     "data": {
      "text/plain": [
       "array([1011.81221248,    9.3880973 ])"
      ]
     },
     "execution_count": 36,
     "metadata": {},
     "output_type": "execute_result"
    }
   ],
   "source": [
    "results.params"
   ]
  },
  {
   "cell_type": "code",
   "execution_count": 46,
   "metadata": {},
   "outputs": [
    {
     "name": "stdout",
     "output_type": "stream",
     "text": [
      "6159773.924592377\n"
     ]
    }
   ],
   "source": [
    "regressHart(y, X)"
   ]
  }
 ],
 "metadata": {
  "kernelspec": {
   "display_name": "Python 3.8.13 ('general_ds')",
   "language": "python",
   "name": "python3"
  },
  "language_info": {
   "codemirror_mode": {
    "name": "ipython",
    "version": 3
   },
   "file_extension": ".py",
   "mimetype": "text/x-python",
   "name": "python",
   "nbconvert_exporter": "python",
   "pygments_lexer": "ipython3",
   "version": "3.8.13"
  },
  "orig_nbformat": 4,
  "vscode": {
   "interpreter": {
    "hash": "c2892b95998397e64822f38de2e41a1410cc5bda2d9d70e92f4ade4b6aa0470a"
   }
  }
 },
 "nbformat": 4,
 "nbformat_minor": 2
}
